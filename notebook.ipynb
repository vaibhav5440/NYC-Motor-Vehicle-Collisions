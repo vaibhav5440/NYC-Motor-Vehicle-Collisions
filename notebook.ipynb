{
 "cells": [
  {
   "cell_type": "code",
   "metadata": {
    "tags": [],
    "cell_id": "d902b83f-427c-4d05-bc26-36ac84475fe7",
    "deepnote_to_be_reexecuted": false,
    "source_hash": "49002c0a",
    "execution_start": 1655222561014,
    "execution_millis": 2860,
    "deepnote_cell_type": "code",
    "deepnote_cell_height": 153
   },
   "source": "# Start writing codeimport pandas as pd\nimport numpy as np\nimport pandas as pd\nimport matplotlib.pyplot as plt\nimport seaborn as sns ",
   "execution_count": 1,
   "outputs": []
  },
  {
   "cell_type": "code",
   "metadata": {
    "cell_id": "27f0b26fb40f4f588d91e5c596ed434c",
    "tags": [],
    "deepnote_to_be_reexecuted": false,
    "source_hash": "c433beeb",
    "execution_start": 1655222563881,
    "execution_millis": 5,
    "deepnote_cell_type": "code",
    "deepnote_cell_height": 207
   },
   "source": "def sniff_modified(df):\n    with pd.option_context(\"display.max_colwidth\", 20):\n        info = pd.DataFrame()\n        info['data type'] = df.dtypes\n        info['percent missing'] = df.isnull().sum()*100/len(df)\n        info['No. unique'] = df.apply(lambda x: len(x.unique()))\n        info['unique values'] = df.apply(lambda x: x.unique())\n        return info.sort_values('data type')",
   "execution_count": 2,
   "outputs": []
  },
  {
   "cell_type": "code",
   "metadata": {
    "cell_id": "6f311e018c6745158b1278eefd1bafc9",
    "tags": [],
    "deepnote_to_be_reexecuted": false,
    "source_hash": "aa26d452",
    "execution_start": 1655222563886,
    "execution_millis": 338,
    "deepnote_cell_type": "code",
    "deepnote_cell_height": 430
   },
   "source": "data = pd.read_csv(\"NYC_Motor_Vehicle_Collisions_to_Person.csv\")\ndata.head()",
   "execution_count": 3,
   "outputs": [
    {
     "output_type": "execute_result",
     "execution_count": 3,
     "data": {
      "application/vnd.deepnote.dataframe.v3+json": {
       "column_count": 21,
       "row_count": 5,
       "columns": [
        {
         "name": "CRASH_DATE",
         "dtype": "object",
         "stats": {
          "unique_count": 5,
          "nan_count": 0,
          "categories": [
           {
            "name": "2021-05-02",
            "count": 1
           },
           {
            "name": "2021-05-21",
            "count": 1
           },
           {
            "name": "3 others",
            "count": 3
           }
          ]
         }
        },
        {
         "name": "CRASH_TIME",
         "dtype": "object",
         "stats": {
          "unique_count": 5,
          "nan_count": 0,
          "categories": [
           {
            "name": "21:00",
            "count": 1
           },
           {
            "name": "0:00",
            "count": 1
           },
           {
            "name": "3 others",
            "count": 3
           }
          ]
         }
        },
        {
         "name": "PERSON_INJURY",
         "dtype": "object",
         "stats": {
          "unique_count": 1,
          "nan_count": 0,
          "categories": [
           {
            "name": "Killed",
            "count": 5
           }
          ]
         }
        },
        {
         "name": "PERSON_AGE",
         "dtype": "float64",
         "stats": {
          "unique_count": 5,
          "nan_count": 0,
          "min": "24.0",
          "max": "71.0",
          "histogram": [
           {
            "bin_start": 24,
            "bin_end": 28.7,
            "count": 1
           },
           {
            "bin_start": 28.7,
            "bin_end": 33.4,
            "count": 1
           },
           {
            "bin_start": 33.4,
            "bin_end": 38.1,
            "count": 0
           },
           {
            "bin_start": 38.1,
            "bin_end": 42.8,
            "count": 0
           },
           {
            "bin_start": 42.8,
            "bin_end": 47.5,
            "count": 0
           },
           {
            "bin_start": 47.5,
            "bin_end": 52.2,
            "count": 0
           },
           {
            "bin_start": 52.2,
            "bin_end": 56.9,
            "count": 0
           },
           {
            "bin_start": 56.9,
            "bin_end": 61.6,
            "count": 0
           },
           {
            "bin_start": 61.6,
            "bin_end": 66.30000000000001,
            "count": 1
           },
           {
            "bin_start": 66.30000000000001,
            "bin_end": 71,
            "count": 2
           }
          ]
         }
        },
        {
         "name": "BODILY_INJURY",
         "dtype": "object",
         "stats": {
          "unique_count": 2,
          "nan_count": 0,
          "categories": [
           {
            "name": "Head",
            "count": 3
           },
           {
            "name": "Entire Body",
            "count": 2
           }
          ]
         }
        },
        {
         "name": "SAFETY_EQUIPMENT",
         "dtype": "object",
         "stats": {
          "unique_count": 2,
          "nan_count": 3,
          "categories": [
           {
            "name": "Air Bag Deployed",
            "count": 1
           },
           {
            "name": "None",
            "count": 1
           },
           {
            "name": "Missing",
            "count": 3
           }
          ]
         }
        },
        {
         "name": "PERSON_SEX",
         "dtype": "object",
         "stats": {
          "unique_count": 2,
          "nan_count": 0,
          "categories": [
           {
            "name": "Male",
            "count": 3
           },
           {
            "name": "Female",
            "count": 2
           }
          ]
         }
        },
        {
         "name": "PERSON_TYPE",
         "dtype": "object",
         "stats": {
          "unique_count": 2,
          "nan_count": 0,
          "categories": [
           {
            "name": "Pedestrian",
            "count": 3
           },
           {
            "name": "Occupant",
            "count": 2
           }
          ]
         }
        },
        {
         "name": "PED_LOCATION",
         "dtype": "object",
         "stats": {
          "unique_count": 2,
          "nan_count": 2,
          "categories": [
           {
            "name": "Pedestrian/Bicyclist/Other Pedestrian Not at Intersection",
            "count": 2
           },
           {
            "name": "Pedestrian/Bicyclist/Other Pedestrian at Intersection",
            "count": 1
           },
           {
            "name": "Missing",
            "count": 2
           }
          ]
         }
        },
        {
         "name": "CONTRIBUTING_FACTOR_2",
         "dtype": "object",
         "stats": {
          "unique_count": 2,
          "nan_count": 2,
          "categories": [
           {
            "name": "Unspecified",
            "count": 2
           },
           {
            "name": "Pedestrian/Bicyclist/Other Pedestrian Error/Confusion",
            "count": 1
           },
           {
            "name": "Missing",
            "count": 2
           }
          ]
         }
        },
        {
         "name": "EJECTION",
         "dtype": "object",
         "stats": {
          "unique_count": 2,
          "nan_count": 3,
          "categories": [
           {
            "name": "Trapped",
            "count": 1
           },
           {
            "name": "Not Ejected",
            "count": 1
           },
           {
            "name": "Missing",
            "count": 3
           }
          ]
         }
        },
        {
         "name": "COMPLAINT",
         "dtype": "object",
         "stats": {
          "unique_count": 3,
          "nan_count": 0,
          "categories": [
           {
            "name": "Internal",
            "count": 3
           },
           {
            "name": "Severe Bleeding",
            "count": 1
           },
           {
            "name": "None Visible",
            "count": 1
           }
          ]
         }
        },
        {
         "name": "EMOTIONAL_STATUS",
         "dtype": "object",
         "stats": {
          "unique_count": 3,
          "nan_count": 0,
          "categories": [
           {
            "name": "Apparent Death",
            "count": 3
           },
           {
            "name": "Unconscious",
            "count": 1
           },
           {
            "name": "Conscious",
            "count": 1
           }
          ]
         }
        },
        {
         "name": "VEHICLE_ID",
         "dtype": "float64",
         "stats": {
          "unique_count": 2,
          "nan_count": 3,
          "min": "19986231.0",
          "max": "20091024.0",
          "histogram": [
           {
            "bin_start": 19986231,
            "bin_end": 19996710.3,
            "count": 1
           },
           {
            "bin_start": 19996710.3,
            "bin_end": 20007189.6,
            "count": 0
           },
           {
            "bin_start": 20007189.6,
            "bin_end": 20017668.9,
            "count": 0
           },
           {
            "bin_start": 20017668.9,
            "bin_end": 20028148.2,
            "count": 0
           },
           {
            "bin_start": 20028148.2,
            "bin_end": 20038627.5,
            "count": 0
           },
           {
            "bin_start": 20038627.5,
            "bin_end": 20049106.8,
            "count": 0
           },
           {
            "bin_start": 20049106.8,
            "bin_end": 20059586.1,
            "count": 0
           },
           {
            "bin_start": 20059586.1,
            "bin_end": 20070065.4,
            "count": 0
           },
           {
            "bin_start": 20070065.4,
            "bin_end": 20080544.7,
            "count": 0
           },
           {
            "bin_start": 20080544.7,
            "bin_end": 20091024,
            "count": 1
           }
          ]
         }
        },
        {
         "name": "PERSON_ID",
         "dtype": "object",
         "stats": {
          "unique_count": 5,
          "nan_count": 0,
          "categories": [
           {
            "name": "f2f329b6-2dfc-4bd0-b751-2e4255f1ea06",
            "count": 1
           },
           {
            "name": "e27e12a2-0485-4e22-b692-3f8a765d2582",
            "count": 1
           },
           {
            "name": "3 others",
            "count": 3
           }
          ]
         }
        },
        {
         "name": "CONTRIBUTING_FACTOR_1",
         "dtype": "object",
         "stats": {
          "unique_count": 3,
          "nan_count": 2,
          "categories": [
           {
            "name": "Traffic Control Disregarded",
            "count": 1
           },
           {
            "name": "2 others",
            "count": 2
           },
           {
            "name": "Missing",
            "count": 2
           }
          ]
         }
        },
        {
         "name": "POSITION_IN_VEHICLE",
         "dtype": "object",
         "stats": {
          "unique_count": 1,
          "nan_count": 3,
          "categories": [
           {
            "name": "Driver",
            "count": 2
           },
           {
            "name": "Missing",
            "count": 3
           }
          ]
         }
        },
        {
         "name": "PED_ROLE",
         "dtype": "object",
         "stats": {
          "unique_count": 2,
          "nan_count": 0,
          "categories": [
           {
            "name": "Pedestrian",
            "count": 3
           },
           {
            "name": "Driver",
            "count": 2
           }
          ]
         }
        },
        {
         "name": "UNIQUE_ID",
         "dtype": "int64",
         "stats": {
          "unique_count": 5,
          "nan_count": 0,
          "min": "11745791",
          "max": "11998317",
          "histogram": [
           {
            "bin_start": 11745791,
            "bin_end": 11771043.6,
            "count": 1
           },
           {
            "bin_start": 11771043.6,
            "bin_end": 11796296.2,
            "count": 1
           },
           {
            "bin_start": 11796296.2,
            "bin_end": 11821548.8,
            "count": 1
           },
           {
            "bin_start": 11821548.8,
            "bin_end": 11846801.4,
            "count": 0
           },
           {
            "bin_start": 11846801.4,
            "bin_end": 11872054,
            "count": 0
           },
           {
            "bin_start": 11872054,
            "bin_end": 11897306.6,
            "count": 0
           },
           {
            "bin_start": 11897306.6,
            "bin_end": 11922559.2,
            "count": 0
           },
           {
            "bin_start": 11922559.2,
            "bin_end": 11947811.8,
            "count": 0
           },
           {
            "bin_start": 11947811.8,
            "bin_end": 11973064.4,
            "count": 0
           },
           {
            "bin_start": 11973064.4,
            "bin_end": 11998317,
            "count": 2
           }
          ]
         }
        },
        {
         "name": "PED_ACTION",
         "dtype": "object",
         "stats": {
          "unique_count": 3,
          "nan_count": 2,
          "categories": [
           {
            "name": "Crossing Against Signal",
            "count": 1
           },
           {
            "name": "2 others",
            "count": 2
           },
           {
            "name": "Missing",
            "count": 2
           }
          ]
         }
        },
        {
         "name": "COLLISION_ID",
         "dtype": "int64",
         "stats": {
          "unique_count": 5,
          "nan_count": 0,
          "min": "4408062",
          "max": "4467504",
          "histogram": [
           {
            "bin_start": 4408062,
            "bin_end": 4414006.2,
            "count": 2
           },
           {
            "bin_start": 4414006.2,
            "bin_end": 4419950.4,
            "count": 1
           },
           {
            "bin_start": 4419950.4,
            "bin_end": 4425894.6,
            "count": 1
           },
           {
            "bin_start": 4425894.6,
            "bin_end": 4431838.8,
            "count": 0
           },
           {
            "bin_start": 4431838.8,
            "bin_end": 4437783,
            "count": 0
           },
           {
            "bin_start": 4437783,
            "bin_end": 4443727.2,
            "count": 0
           },
           {
            "bin_start": 4443727.2,
            "bin_end": 4449671.4,
            "count": 0
           },
           {
            "bin_start": 4449671.4,
            "bin_end": 4455615.6,
            "count": 0
           },
           {
            "bin_start": 4455615.6,
            "bin_end": 4461559.8,
            "count": 0
           },
           {
            "bin_start": 4461559.8,
            "bin_end": 4467504,
            "count": 1
           }
          ]
         }
        },
        {
         "name": "_deepnote_index_column",
         "dtype": "int64"
        }
       ],
       "rows": [
        {
         "CRASH_DATE": "2021-05-02",
         "CRASH_TIME": "21:00",
         "PERSON_INJURY": "Killed",
         "PERSON_AGE": 62,
         "BODILY_INJURY": "Head",
         "SAFETY_EQUIPMENT": "nan",
         "PERSON_SEX": "Female",
         "PERSON_TYPE": "Pedestrian",
         "PED_LOCATION": "Pedestrian/Bicyclist/Other Pedestrian at Intersection",
         "CONTRIBUTING_FACTOR_2": "Pedestrian/Bicyclist/Other Pedestrian Error/Confusion",
         "EJECTION": "nan",
         "COMPLAINT": "Severe Bleeding",
         "EMOTIONAL_STATUS": "Apparent Death",
         "VEHICLE_ID": "nan",
         "PERSON_ID": "f2f329b6-2dfc-4bd0-b751-2e4255f1ea06",
         "CONTRIBUTING_FACTOR_1": "Traffic Control Disregarded",
         "POSITION_IN_VEHICLE": "nan",
         "PED_ROLE": "Pedestrian",
         "UNIQUE_ID": 11791937,
         "PED_ACTION": "Crossing Against Signal",
         "COLLISION_ID": 4412948,
         "_deepnote_index_column": 0
        },
        {
         "CRASH_DATE": "2021-05-21",
         "CRASH_TIME": "0:00",
         "PERSON_INJURY": "Killed",
         "PERSON_AGE": 24,
         "BODILY_INJURY": "Entire Body",
         "SAFETY_EQUIPMENT": "Air Bag Deployed",
         "PERSON_SEX": "Male",
         "PERSON_TYPE": "Occupant",
         "PED_LOCATION": "nan",
         "CONTRIBUTING_FACTOR_2": "nan",
         "EJECTION": "Trapped",
         "COMPLAINT": "Internal",
         "EMOTIONAL_STATUS": "Apparent Death",
         "VEHICLE_ID": 19986231,
         "PERSON_ID": "e27e12a2-0485-4e22-b692-3f8a765d2582",
         "CONTRIBUTING_FACTOR_1": "nan",
         "POSITION_IN_VEHICLE": "Driver",
         "PED_ROLE": "Driver",
         "UNIQUE_ID": 11819198,
         "PED_ACTION": "nan",
         "COLLISION_ID": 4419608,
         "_deepnote_index_column": 1
        },
        {
         "CRASH_DATE": "2021-10-15",
         "CRASH_TIME": "2:00",
         "PERSON_INJURY": "Killed",
         "PERSON_AGE": 30,
         "BODILY_INJURY": "Head",
         "SAFETY_EQUIPMENT": "None",
         "PERSON_SEX": "Male",
         "PERSON_TYPE": "Occupant",
         "PED_LOCATION": "nan",
         "CONTRIBUTING_FACTOR_2": "nan",
         "EJECTION": "Not Ejected",
         "COMPLAINT": "Internal",
         "EMOTIONAL_STATUS": "Apparent Death",
         "VEHICLE_ID": 20091024,
         "PERSON_ID": "1a6f5aa7-5125-4be2-8499-fe7977cb0d90",
         "CONTRIBUTING_FACTOR_1": "nan",
         "POSITION_IN_VEHICLE": "Driver",
         "PED_ROLE": "Driver",
         "UNIQUE_ID": 11998317,
         "PED_ACTION": "nan",
         "COLLISION_ID": 4467504,
         "_deepnote_index_column": 2
        },
        {
         "CRASH_DATE": "2021-04-17",
         "CRASH_TIME": "13:00",
         "PERSON_INJURY": "Killed",
         "PERSON_AGE": 71,
         "BODILY_INJURY": "Head",
         "SAFETY_EQUIPMENT": "nan",
         "PERSON_SEX": "Male",
         "PERSON_TYPE": "Pedestrian",
         "PED_LOCATION": "Pedestrian/Bicyclist/Other Pedestrian Not at Intersection",
         "CONTRIBUTING_FACTOR_2": "Unspecified",
         "EJECTION": "nan",
         "COMPLAINT": "Internal",
         "EMOTIONAL_STATUS": "Unconscious",
         "VEHICLE_ID": "nan",
         "PERSON_ID": "b950706b-00a4-485c-84c5-777208cc3cc9",
         "CONTRIBUTING_FACTOR_1": "Pedestrian/Bicyclist/Other Pedestrian Error/Confusion",
         "POSITION_IN_VEHICLE": "nan",
         "PED_ROLE": "Pedestrian",
         "UNIQUE_ID": 11745791,
         "PED_ACTION": "Crossing, No Signal, or Crosswalk",
         "COLLISION_ID": 4408062,
         "_deepnote_index_column": 3
        },
        {
         "CRASH_DATE": "2021-05-25",
         "CRASH_TIME": "22:00",
         "PERSON_INJURY": "Killed",
         "PERSON_AGE": 69,
         "BODILY_INJURY": "Entire Body",
         "SAFETY_EQUIPMENT": "nan",
         "PERSON_SEX": "Female",
         "PERSON_TYPE": "Pedestrian",
         "PED_LOCATION": "Pedestrian/Bicyclist/Other Pedestrian Not at Intersection",
         "CONTRIBUTING_FACTOR_2": "Unspecified",
         "EJECTION": "nan",
         "COMPLAINT": "None Visible",
         "EMOTIONAL_STATUS": "Conscious",
         "VEHICLE_ID": "nan",
         "PERSON_ID": "6504ea0a-c92d-444c-8127-284943be9aac",
         "CONTRIBUTING_FACTOR_1": "Unspecified",
         "POSITION_IN_VEHICLE": "nan",
         "PED_ROLE": "Pedestrian",
         "UNIQUE_ID": 11991283,
         "PED_ACTION": "Crossing, No Signal, Marked Crosswalk",
         "COLLISION_ID": 4420918,
         "_deepnote_index_column": 4
        }
       ]
      },
      "text/plain": "   CRASH_DATE CRASH_TIME PERSON_INJURY  PERSON_AGE BODILY_INJURY  \\\n0  2021-05-02      21:00        Killed        62.0          Head   \n1  2021-05-21       0:00        Killed        24.0   Entire Body   \n2  2021-10-15       2:00        Killed        30.0          Head   \n3  2021-04-17      13:00        Killed        71.0          Head   \n4  2021-05-25      22:00        Killed        69.0   Entire Body   \n\n   SAFETY_EQUIPMENT PERSON_SEX PERSON_TYPE  \\\n0               NaN     Female  Pedestrian   \n1  Air Bag Deployed       Male    Occupant   \n2              None       Male    Occupant   \n3               NaN       Male  Pedestrian   \n4               NaN     Female  Pedestrian   \n\n                                        PED_LOCATION  \\\n0  Pedestrian/Bicyclist/Other Pedestrian at Inter...   \n1                                                NaN   \n2                                                NaN   \n3  Pedestrian/Bicyclist/Other Pedestrian Not at I...   \n4  Pedestrian/Bicyclist/Other Pedestrian Not at I...   \n\n                               CONTRIBUTING_FACTOR_2  ...        COMPLAINT  \\\n0  Pedestrian/Bicyclist/Other Pedestrian Error/Co...  ...  Severe Bleeding   \n1                                                NaN  ...         Internal   \n2                                                NaN  ...         Internal   \n3                                        Unspecified  ...         Internal   \n4                                        Unspecified  ...     None Visible   \n\n  EMOTIONAL_STATUS  VEHICLE_ID                             PERSON_ID  \\\n0   Apparent Death         NaN  f2f329b6-2dfc-4bd0-b751-2e4255f1ea06   \n1   Apparent Death  19986231.0  e27e12a2-0485-4e22-b692-3f8a765d2582   \n2   Apparent Death  20091024.0  1a6f5aa7-5125-4be2-8499-fe7977cb0d90   \n3      Unconscious         NaN  b950706b-00a4-485c-84c5-777208cc3cc9   \n4        Conscious         NaN  6504ea0a-c92d-444c-8127-284943be9aac   \n\n                               CONTRIBUTING_FACTOR_1 POSITION_IN_VEHICLE  \\\n0                        Traffic Control Disregarded                 NaN   \n1                                                NaN              Driver   \n2                                                NaN              Driver   \n3  Pedestrian/Bicyclist/Other Pedestrian Error/Co...                 NaN   \n4                                        Unspecified                 NaN   \n\n     PED_ROLE UNIQUE_ID                             PED_ACTION COLLISION_ID  \n0  Pedestrian  11791937                Crossing Against Signal      4412948  \n1      Driver  11819198                                    NaN      4419608  \n2      Driver  11998317                                    NaN      4467504  \n3  Pedestrian  11745791      Crossing, No Signal, or Crosswalk      4408062  \n4  Pedestrian  11991283  Crossing, No Signal, Marked Crosswalk      4420918  \n\n[5 rows x 21 columns]",
      "text/html": "<div>\n<style scoped>\n    .dataframe tbody tr th:only-of-type {\n        vertical-align: middle;\n    }\n\n    .dataframe tbody tr th {\n        vertical-align: top;\n    }\n\n    .dataframe thead th {\n        text-align: right;\n    }\n</style>\n<table border=\"1\" class=\"dataframe\">\n  <thead>\n    <tr style=\"text-align: right;\">\n      <th></th>\n      <th>CRASH_DATE</th>\n      <th>CRASH_TIME</th>\n      <th>PERSON_INJURY</th>\n      <th>PERSON_AGE</th>\n      <th>BODILY_INJURY</th>\n      <th>SAFETY_EQUIPMENT</th>\n      <th>PERSON_SEX</th>\n      <th>PERSON_TYPE</th>\n      <th>PED_LOCATION</th>\n      <th>CONTRIBUTING_FACTOR_2</th>\n      <th>...</th>\n      <th>COMPLAINT</th>\n      <th>EMOTIONAL_STATUS</th>\n      <th>VEHICLE_ID</th>\n      <th>PERSON_ID</th>\n      <th>CONTRIBUTING_FACTOR_1</th>\n      <th>POSITION_IN_VEHICLE</th>\n      <th>PED_ROLE</th>\n      <th>UNIQUE_ID</th>\n      <th>PED_ACTION</th>\n      <th>COLLISION_ID</th>\n    </tr>\n  </thead>\n  <tbody>\n    <tr>\n      <th>0</th>\n      <td>2021-05-02</td>\n      <td>21:00</td>\n      <td>Killed</td>\n      <td>62.0</td>\n      <td>Head</td>\n      <td>NaN</td>\n      <td>Female</td>\n      <td>Pedestrian</td>\n      <td>Pedestrian/Bicyclist/Other Pedestrian at Inter...</td>\n      <td>Pedestrian/Bicyclist/Other Pedestrian Error/Co...</td>\n      <td>...</td>\n      <td>Severe Bleeding</td>\n      <td>Apparent Death</td>\n      <td>NaN</td>\n      <td>f2f329b6-2dfc-4bd0-b751-2e4255f1ea06</td>\n      <td>Traffic Control Disregarded</td>\n      <td>NaN</td>\n      <td>Pedestrian</td>\n      <td>11791937</td>\n      <td>Crossing Against Signal</td>\n      <td>4412948</td>\n    </tr>\n    <tr>\n      <th>1</th>\n      <td>2021-05-21</td>\n      <td>0:00</td>\n      <td>Killed</td>\n      <td>24.0</td>\n      <td>Entire Body</td>\n      <td>Air Bag Deployed</td>\n      <td>Male</td>\n      <td>Occupant</td>\n      <td>NaN</td>\n      <td>NaN</td>\n      <td>...</td>\n      <td>Internal</td>\n      <td>Apparent Death</td>\n      <td>19986231.0</td>\n      <td>e27e12a2-0485-4e22-b692-3f8a765d2582</td>\n      <td>NaN</td>\n      <td>Driver</td>\n      <td>Driver</td>\n      <td>11819198</td>\n      <td>NaN</td>\n      <td>4419608</td>\n    </tr>\n    <tr>\n      <th>2</th>\n      <td>2021-10-15</td>\n      <td>2:00</td>\n      <td>Killed</td>\n      <td>30.0</td>\n      <td>Head</td>\n      <td>None</td>\n      <td>Male</td>\n      <td>Occupant</td>\n      <td>NaN</td>\n      <td>NaN</td>\n      <td>...</td>\n      <td>Internal</td>\n      <td>Apparent Death</td>\n      <td>20091024.0</td>\n      <td>1a6f5aa7-5125-4be2-8499-fe7977cb0d90</td>\n      <td>NaN</td>\n      <td>Driver</td>\n      <td>Driver</td>\n      <td>11998317</td>\n      <td>NaN</td>\n      <td>4467504</td>\n    </tr>\n    <tr>\n      <th>3</th>\n      <td>2021-04-17</td>\n      <td>13:00</td>\n      <td>Killed</td>\n      <td>71.0</td>\n      <td>Head</td>\n      <td>NaN</td>\n      <td>Male</td>\n      <td>Pedestrian</td>\n      <td>Pedestrian/Bicyclist/Other Pedestrian Not at I...</td>\n      <td>Unspecified</td>\n      <td>...</td>\n      <td>Internal</td>\n      <td>Unconscious</td>\n      <td>NaN</td>\n      <td>b950706b-00a4-485c-84c5-777208cc3cc9</td>\n      <td>Pedestrian/Bicyclist/Other Pedestrian Error/Co...</td>\n      <td>NaN</td>\n      <td>Pedestrian</td>\n      <td>11745791</td>\n      <td>Crossing, No Signal, or Crosswalk</td>\n      <td>4408062</td>\n    </tr>\n    <tr>\n      <th>4</th>\n      <td>2021-05-25</td>\n      <td>22:00</td>\n      <td>Killed</td>\n      <td>69.0</td>\n      <td>Entire Body</td>\n      <td>NaN</td>\n      <td>Female</td>\n      <td>Pedestrian</td>\n      <td>Pedestrian/Bicyclist/Other Pedestrian Not at I...</td>\n      <td>Unspecified</td>\n      <td>...</td>\n      <td>None Visible</td>\n      <td>Conscious</td>\n      <td>NaN</td>\n      <td>6504ea0a-c92d-444c-8127-284943be9aac</td>\n      <td>Unspecified</td>\n      <td>NaN</td>\n      <td>Pedestrian</td>\n      <td>11991283</td>\n      <td>Crossing, No Signal, Marked Crosswalk</td>\n      <td>4420918</td>\n    </tr>\n  </tbody>\n</table>\n<p>5 rows × 21 columns</p>\n</div>"
     },
     "metadata": {}
    }
   ]
  },
  {
   "cell_type": "code",
   "metadata": {
    "cell_id": "bf17cc47c44c474087d26086926c7ce3",
    "tags": [],
    "deepnote_to_be_reexecuted": false,
    "source_hash": "878de0e4",
    "execution_start": 1655222564250,
    "execution_millis": 10,
    "deepnote_cell_type": "code",
    "deepnote_cell_height": 521.375,
    "deepnote_output_heights": [
     424.390625
    ]
   },
   "source": "data.isnull().sum()",
   "execution_count": 4,
   "outputs": [
    {
     "output_type": "execute_result",
     "execution_count": 4,
     "data": {
      "text/plain": "CRASH_DATE                   0\nCRASH_TIME                   0\nPERSON_INJURY                0\nPERSON_AGE                 421\nBODILY_INJURY                0\nSAFETY_EQUIPMENT          6235\nPERSON_SEX                   0\nPERSON_TYPE                  0\nPED_LOCATION             39098\nCONTRIBUTING_FACTOR_2    39123\nEJECTION                  6240\nCOMPLAINT                    0\nEMOTIONAL_STATUS             0\nVEHICLE_ID                6571\nPERSON_ID                    0\nCONTRIBUTING_FACTOR_1    39111\nPOSITION_IN_VEHICLE       6221\nPED_ROLE                     0\nUNIQUE_ID                    0\nPED_ACTION               39098\nCOLLISION_ID                 0\ndtype: int64"
     },
     "metadata": {}
    }
   ]
  },
  {
   "cell_type": "code",
   "metadata": {
    "cell_id": "13c9bbfe70084a3c97dbf90439cf32a9",
    "tags": [],
    "deepnote_to_be_reexecuted": false,
    "source_hash": "d786443f",
    "execution_start": 1655222564265,
    "execution_millis": 59,
    "deepnote_cell_type": "code",
    "deepnote_cell_height": 518
   },
   "source": "data.describe()",
   "execution_count": 5,
   "outputs": [
    {
     "output_type": "execute_result",
     "execution_count": 5,
     "data": {
      "application/vnd.deepnote.dataframe.v3+json": {
       "column_count": 4,
       "row_count": 8,
       "columns": [
        {
         "name": "PERSON_AGE",
         "dtype": "float64",
         "stats": {
          "unique_count": 8,
          "nan_count": 0,
          "min": "-971.0",
          "max": "45248.0",
          "histogram": [
           {
            "bin_start": -971,
            "bin_end": 3650.8999999999996,
            "count": 6
           },
           {
            "bin_start": 3650.8999999999996,
            "bin_end": 8272.8,
            "count": 0
           },
           {
            "bin_start": 8272.8,
            "bin_end": 12894.699999999999,
            "count": 1
           },
           {
            "bin_start": 12894.699999999999,
            "bin_end": 17516.6,
            "count": 0
           },
           {
            "bin_start": 17516.6,
            "bin_end": 22138.5,
            "count": 0
           },
           {
            "bin_start": 22138.5,
            "bin_end": 26760.399999999998,
            "count": 0
           },
           {
            "bin_start": 26760.399999999998,
            "bin_end": 31382.299999999996,
            "count": 0
           },
           {
            "bin_start": 31382.299999999996,
            "bin_end": 36004.2,
            "count": 0
           },
           {
            "bin_start": 36004.2,
            "bin_end": 40626.1,
            "count": 0
           },
           {
            "bin_start": 40626.1,
            "bin_end": 45248,
            "count": 1
           }
          ]
         }
        },
        {
         "name": "VEHICLE_ID",
         "dtype": "float64",
         "stats": {
          "unique_count": 8,
          "nan_count": 0,
          "min": "39098.0",
          "max": "20109925.0",
          "histogram": [
           {
            "bin_start": 39098,
            "bin_end": 2046180.7,
            "count": 2
           },
           {
            "bin_start": 2046180.7,
            "bin_end": 4053263.4,
            "count": 0
           },
           {
            "bin_start": 4053263.4,
            "bin_end": 6060346.1,
            "count": 0
           },
           {
            "bin_start": 6060346.1,
            "bin_end": 8067428.8,
            "count": 0
           },
           {
            "bin_start": 8067428.8,
            "bin_end": 10074511.5,
            "count": 0
           },
           {
            "bin_start": 10074511.5,
            "bin_end": 12081594.2,
            "count": 0
           },
           {
            "bin_start": 12081594.2,
            "bin_end": 14088676.9,
            "count": 0
           },
           {
            "bin_start": 14088676.9,
            "bin_end": 16095759.6,
            "count": 0
           },
           {
            "bin_start": 16095759.6,
            "bin_end": 18102842.3,
            "count": 0
           },
           {
            "bin_start": 18102842.3,
            "bin_end": 20109925,
            "count": 6
           }
          ]
         }
        },
        {
         "name": "UNIQUE_ID",
         "dtype": "float64",
         "stats": {
          "unique_count": 8,
          "nan_count": 0,
          "min": "45669.0",
          "max": "12031464.0",
          "histogram": [
           {
            "bin_start": 45669,
            "bin_end": 1244248.5,
            "count": 2
           },
           {
            "bin_start": 1244248.5,
            "bin_end": 2442828,
            "count": 0
           },
           {
            "bin_start": 2442828,
            "bin_end": 3641407.5,
            "count": 0
           },
           {
            "bin_start": 3641407.5,
            "bin_end": 4839987,
            "count": 0
           },
           {
            "bin_start": 4839987,
            "bin_end": 6038566.5,
            "count": 0
           },
           {
            "bin_start": 6038566.5,
            "bin_end": 7237146,
            "count": 0
           },
           {
            "bin_start": 7237146,
            "bin_end": 8435725.5,
            "count": 0
           },
           {
            "bin_start": 8435725.5,
            "bin_end": 9634305,
            "count": 0
           },
           {
            "bin_start": 9634305,
            "bin_end": 10832884.5,
            "count": 0
           },
           {
            "bin_start": 10832884.5,
            "bin_end": 12031464,
            "count": 6
           }
          ]
         }
        },
        {
         "name": "COLLISION_ID",
         "dtype": "float64",
         "stats": {
          "unique_count": 8,
          "nan_count": 0,
          "min": "27534.031505535335",
          "max": "4478832.0",
          "histogram": [
           {
            "bin_start": 27534.031505535335,
            "bin_end": 472663.82835498184,
            "count": 2
           },
           {
            "bin_start": 472663.82835498184,
            "bin_end": 917793.6252044283,
            "count": 0
           },
           {
            "bin_start": 917793.6252044283,
            "bin_end": 1362923.422053875,
            "count": 0
           },
           {
            "bin_start": 1362923.422053875,
            "bin_end": 1808053.2189033213,
            "count": 0
           },
           {
            "bin_start": 1808053.2189033213,
            "bin_end": 2253183.0157527677,
            "count": 0
           },
           {
            "bin_start": 2253183.0157527677,
            "bin_end": 2698312.8126022145,
            "count": 0
           },
           {
            "bin_start": 2698312.8126022145,
            "bin_end": 3143442.609451661,
            "count": 0
           },
           {
            "bin_start": 3143442.609451661,
            "bin_end": 3588572.4063011073,
            "count": 0
           },
           {
            "bin_start": 3588572.4063011073,
            "bin_end": 4033702.2031505536,
            "count": 0
           },
           {
            "bin_start": 4033702.2031505536,
            "bin_end": 4478832,
            "count": 6
           }
          ]
         }
        },
        {
         "name": "_deepnote_index_column",
         "dtype": "object"
        }
       ],
       "rows": [
        {
         "PERSON_AGE": 45248,
         "VEHICLE_ID": 39098,
         "UNIQUE_ID": 45669,
         "COLLISION_ID": 45669,
         "_deepnote_index_column": "count"
        },
        {
         "PERSON_AGE": 37.48764586280057,
         "VEHICLE_ID": 19996634.31385237,
         "UNIQUE_ID": 11835877.586152533,
         "COLLISION_ID": 4431736.912544615,
         "_deepnote_index_column": "mean"
        },
        {
         "PERSON_AGE": 81.49203180351282,
         "VEHICLE_ID": 79409.8075840084,
         "UNIQUE_ID": 137582.8387450429,
         "COLLISION_ID": 27534.031505535335,
         "_deepnote_index_column": "std"
        },
        {
         "PERSON_AGE": -971,
         "VEHICLE_ID": 19821967,
         "UNIQUE_ID": 11537246,
         "COLLISION_ID": 4380715,
         "_deepnote_index_column": "min"
        },
        {
         "PERSON_AGE": 25,
         "VEHICLE_ID": 19960783.75,
         "UNIQUE_ID": 11772893,
         "COLLISION_ID": 4408781,
         "_deepnote_index_column": "25%"
        },
        {
         "PERSON_AGE": 34,
         "VEHICLE_ID": 20008772.5,
         "UNIQUE_ID": 11856795,
         "COLLISION_ID": 4432358,
         "_deepnote_index_column": "50%"
        },
        {
         "PERSON_AGE": 48,
         "VEHICLE_ID": 20058683,
         "UNIQUE_ID": 11944207,
         "COLLISION_ID": 4455395,
         "_deepnote_index_column": "75%"
        },
        {
         "PERSON_AGE": 9999,
         "VEHICLE_ID": 20109925,
         "UNIQUE_ID": 12031464,
         "COLLISION_ID": 4478832,
         "_deepnote_index_column": "max"
        }
       ]
      },
      "text/plain": "         PERSON_AGE    VEHICLE_ID     UNIQUE_ID  COLLISION_ID\ncount  45248.000000  3.909800e+04  4.566900e+04  4.566900e+04\nmean      37.487646  1.999663e+07  1.183588e+07  4.431737e+06\nstd       81.492032  7.940981e+04  1.375828e+05  2.753403e+04\nmin     -971.000000  1.982197e+07  1.153725e+07  4.380715e+06\n25%       25.000000  1.996078e+07  1.177289e+07  4.408781e+06\n50%       34.000000  2.000877e+07  1.185680e+07  4.432358e+06\n75%       48.000000  2.005868e+07  1.194421e+07  4.455395e+06\nmax     9999.000000  2.010992e+07  1.203146e+07  4.478832e+06",
      "text/html": "<div>\n<style scoped>\n    .dataframe tbody tr th:only-of-type {\n        vertical-align: middle;\n    }\n\n    .dataframe tbody tr th {\n        vertical-align: top;\n    }\n\n    .dataframe thead th {\n        text-align: right;\n    }\n</style>\n<table border=\"1\" class=\"dataframe\">\n  <thead>\n    <tr style=\"text-align: right;\">\n      <th></th>\n      <th>PERSON_AGE</th>\n      <th>VEHICLE_ID</th>\n      <th>UNIQUE_ID</th>\n      <th>COLLISION_ID</th>\n    </tr>\n  </thead>\n  <tbody>\n    <tr>\n      <th>count</th>\n      <td>45248.000000</td>\n      <td>3.909800e+04</td>\n      <td>4.566900e+04</td>\n      <td>4.566900e+04</td>\n    </tr>\n    <tr>\n      <th>mean</th>\n      <td>37.487646</td>\n      <td>1.999663e+07</td>\n      <td>1.183588e+07</td>\n      <td>4.431737e+06</td>\n    </tr>\n    <tr>\n      <th>std</th>\n      <td>81.492032</td>\n      <td>7.940981e+04</td>\n      <td>1.375828e+05</td>\n      <td>2.753403e+04</td>\n    </tr>\n    <tr>\n      <th>min</th>\n      <td>-971.000000</td>\n      <td>1.982197e+07</td>\n      <td>1.153725e+07</td>\n      <td>4.380715e+06</td>\n    </tr>\n    <tr>\n      <th>25%</th>\n      <td>25.000000</td>\n      <td>1.996078e+07</td>\n      <td>1.177289e+07</td>\n      <td>4.408781e+06</td>\n    </tr>\n    <tr>\n      <th>50%</th>\n      <td>34.000000</td>\n      <td>2.000877e+07</td>\n      <td>1.185680e+07</td>\n      <td>4.432358e+06</td>\n    </tr>\n    <tr>\n      <th>75%</th>\n      <td>48.000000</td>\n      <td>2.005868e+07</td>\n      <td>1.194421e+07</td>\n      <td>4.455395e+06</td>\n    </tr>\n    <tr>\n      <th>max</th>\n      <td>9999.000000</td>\n      <td>2.010992e+07</td>\n      <td>1.203146e+07</td>\n      <td>4.478832e+06</td>\n    </tr>\n  </tbody>\n</table>\n</div>"
     },
     "metadata": {}
    }
   ]
  },
  {
   "cell_type": "code",
   "metadata": {
    "cell_id": "b6dc39253dfc4ce78ab4b19438c51850",
    "tags": [],
    "deepnote_to_be_reexecuted": false,
    "source_hash": "308d215d",
    "execution_start": 1655222564325,
    "execution_millis": 221,
    "deepnote_cell_type": "code",
    "deepnote_cell_height": 600
   },
   "source": "sniff_modified(data)",
   "execution_count": 6,
   "outputs": [
    {
     "output_type": "execute_result",
     "execution_count": 6,
     "data": {
      "application/vnd.deepnote.dataframe.v3+json": {
       "column_count": 4,
       "row_count": 21,
       "columns": [
        {
         "name": "data type",
         "dtype": "object",
         "stats": {
          "unique_count": 3,
          "nan_count": 0,
          "categories": [
           {
            "name": "object",
            "count": 17
           },
           {
            "name": "int64",
            "count": 2
           },
           {
            "name": "float64",
            "count": 2
           }
          ]
         }
        },
        {
         "name": "percent missing",
         "dtype": "float64",
         "stats": {
          "unique_count": 9,
          "nan_count": 0,
          "min": "0.0",
          "max": "85.66642580306116",
          "histogram": [
           {
            "bin_start": 0,
            "bin_end": 8.566642580306116,
            "count": 13
           },
           {
            "bin_start": 8.566642580306116,
            "bin_end": 17.133285160612232,
            "count": 4
           },
           {
            "bin_start": 17.133285160612232,
            "bin_end": 25.699927740918348,
            "count": 0
           },
           {
            "bin_start": 25.699927740918348,
            "bin_end": 34.266570321224464,
            "count": 0
           },
           {
            "bin_start": 34.266570321224464,
            "bin_end": 42.83321290153058,
            "count": 0
           },
           {
            "bin_start": 42.83321290153058,
            "bin_end": 51.399855481836696,
            "count": 0
           },
           {
            "bin_start": 51.399855481836696,
            "bin_end": 59.96649806214281,
            "count": 0
           },
           {
            "bin_start": 59.96649806214281,
            "bin_end": 68.53314064244893,
            "count": 0
           },
           {
            "bin_start": 68.53314064244893,
            "bin_end": 77.09978322275504,
            "count": 0
           },
           {
            "bin_start": 77.09978322275504,
            "bin_end": 85.66642580306116,
            "count": 4
           }
          ]
         }
        },
        {
         "name": "No. unique",
         "dtype": "int64",
         "stats": {
          "unique_count": 16,
          "nan_count": 0,
          "min": "2",
          "max": "45669",
          "histogram": [
           {
            "bin_start": 2,
            "bin_end": 4568.7,
            "count": 17
           },
           {
            "bin_start": 4568.7,
            "bin_end": 9135.4,
            "count": 0
           },
           {
            "bin_start": 9135.4,
            "bin_end": 13702.099999999999,
            "count": 0
           },
           {
            "bin_start": 13702.099999999999,
            "bin_end": 18268.8,
            "count": 0
           },
           {
            "bin_start": 18268.8,
            "bin_end": 22835.5,
            "count": 0
           },
           {
            "bin_start": 22835.5,
            "bin_end": 27402.199999999997,
            "count": 0
           },
           {
            "bin_start": 27402.199999999997,
            "bin_end": 31968.899999999998,
            "count": 1
           },
           {
            "bin_start": 31968.899999999998,
            "bin_end": 36535.6,
            "count": 1
           },
           {
            "bin_start": 36535.6,
            "bin_end": 41102.299999999996,
            "count": 0
           },
           {
            "bin_start": 41102.299999999996,
            "bin_end": 45669,
            "count": 2
           }
          ]
         }
        },
        {
         "name": "unique values",
         "dtype": "object",
         "stats": {
          "unique_count": 21,
          "nan_count": 0,
          "categories": [
           {
            "name": "[4412948 4419608 4467504 ... 4411119 4415414 4415201]",
            "count": 1
           },
           {
            "name": "[11791937 11819198 11998317 ... 11758963 11828495 12030648]",
            "count": 1
           },
           {
            "name": "19 others",
            "count": 19
           }
          ]
         }
        },
        {
         "name": "_deepnote_index_column",
         "dtype": "object"
        }
       ],
       "rows": [
        {
         "data type": "int64",
         "percent missing": 0,
         "No. unique": 33928,
         "unique values": "[4412948 4419608 4467504 ... 4411119 4415414 4415201]",
         "_deepnote_index_column": "COLLISION_ID"
        },
        {
         "data type": "int64",
         "percent missing": 0,
         "No. unique": 45669,
         "unique values": "[11791937 11819198 11998317 ... 11758963 11828495 12030648]",
         "_deepnote_index_column": "UNIQUE_ID"
        },
        {
         "data type": "float64",
         "percent missing": 0.9218507083579671,
         "No. unique": 126,
         "unique values": "[ 6.200e+01  2.400e+01  3.000e+01  7.100e+01  6.900e+01  4.300e+01\n  8.100e+01  6.000e+01  5.200e+01  2.100e+01  5.700e+01  3.300e+01\n  2.000e+01  5.500e+01  7.300e+01  2.600e+01  3.400e+01  6.700e+01\n  8.600e+01  5.400e+01  6.800e+01  5.800e+01  3.900e+01  5.600e+01\n  2.300e+01  2.900e+01  1.900e+01  4.600e+01  5.300e+01  1.210e+02\n  6.100e+01  3.600e+01  1.800e+01        nan  5.100e+01  4.200e+01\n  6.400e+01  2.500e+01  4.500e+01  4.000e+00  9.000e+01  8.200e+01\n  6.500e+01  5.000e+01  7.800e+01  2.700e+01  3.500e+01  7.400e+01\n  9.200e+01  1.000e+01  7.000e+01  2.200e+01  4.000e+01  3.100e+01\n  4.100e+01  7.700e+01  2.000e+00  4.400e+01  5.900e+01  3.800e+01\n  3.700e+01  9.500e+01  8.400e+01  9.700e+01  9.100e+01  6.600e+01\n  2.800e+01  6.000e+00  3.200e+01  7.200e+01  1.600e+01  4.900e+01\n  6.300e+01  8.500e+01  4.800e+01  4.700e+01  8.000e+01  7.500e+01\n  1.300e+01  1.500e+01  5.000e+00  1.200e+01  1.000e+00  1.700e+01\n  1.400e+01 -9.560e+02  1.200e+02  1.100e+01  1.120e+02  7.00…",
         "_deepnote_index_column": "PERSON_AGE"
        },
        {
         "data type": "float64",
         "percent missing": 14.388315925463662,
         "No. unique": 31404,
         "unique values": "[      nan 19986231. 20091024. ... 19966687. 19951136. 19991766.]",
         "_deepnote_index_column": "VEHICLE_ID"
        },
        {
         "data type": "object",
         "percent missing": 0,
         "No. unique": 5,
         "unique values": "['Pedestrian' 'Driver' 'Passenger' 'Other' 'In-Line Skater']",
         "_deepnote_index_column": "PED_ROLE"
        },
        {
         "data type": "object",
         "percent missing": 13.621931726116184,
         "No. unique": 11,
         "unique values": "[nan 'Driver'\n 'Front passenger, if two or more persons, including the driver, are in the front seat'\n 'Right rear passenger or motorcycle sidecar passenger'\n 'Riding/Hanging on Outside'\n 'Left rear passenger, or rear passenger on a bicycle, motorcycle, snowmobile'\n 'Middle rear seat, or passenger lying across a seat'\n 'Any person in the rear of a station wagon, pick-up truck, all passengers on a bus, etc'\n 'Middle front seat, or passenger lying across a seat' 'Unknown'\n 'If one person is seated on another person&apos;s lap']",
         "_deepnote_index_column": "POSITION_IN_VEHICLE"
        },
        {
         "data type": "object",
         "percent missing": 85.64014977336925,
         "No. unique": 40,
         "unique values": "['Traffic Control Disregarded' nan\n 'Pedestrian/Bicyclist/Other Pedestrian Error/Confusion' 'Unspecified'\n 'Alcohol Involvement' 'Other Vehicular' 'Driver Inattention/Distraction'\n 'Physical Disability' 'Failure to Yield Right-of-Way'\n 'Passing Too Closely' 'Following Too Closely' 'Driver Inexperience'\n 'Turning Improperly' 'Backing Unsafely' 'Outside Car Distraction'\n 'Cell Phone (hand-Held)' 'Unsafe Speed' 'Cell Phone (hands-free)'\n 'Fell Asleep' 'Passing or Lane Usage Improper' 'View Obstructed/Limited'\n 'Drugs (illegal)' 'Oversized Vehicle' 'Reaction to Uninvolved Vehicle'\n 'Aggressive Driving/Road Rage' 'Animals Action' 'Fatigued/Drowsy'\n 'Passenger Distraction' 'Traffic Control Device Improper/Non-Working'\n 'Obstruction/Debris' 'Texting' 'Driverless/Runaway Vehicle' 'Illnes'\n 'Pavement Slippery' 'Eating or Drinking' 'Failure to Keep Right'\n 'Listening/Using Headphones' 'Lane Marking Improper/Inadequate'\n 'Unsafe Lane Changing' 'Brakes Defective']",
         "_deepnote_index_column": "CONTRIBUTING_FACTOR_1"
        },
        {
         "data type": "object",
         "percent missing": 0,
         "No. unique": 45669,
         "unique values": "['f2f329b6-2dfc-4bd0-b751-2e4255f1ea06'\n 'e27e12a2-0485-4e22-b692-3f8a765d2582'\n '1a6f5aa7-5125-4be2-8499-fe7977cb0d90' ...\n 'c70e93ff-cb5f-4e15-b888-0f17a1ede0cd'\n 'bb039a41-8563-493b-9fd1-a5bcd15fbb33'\n '8fc5e0f7-66da-4e62-b7f1-a0e8dbdb0ea6']",
         "_deepnote_index_column": "PERSON_ID"
        },
        {
         "data type": "object",
         "percent missing": 0,
         "No. unique": 8,
         "unique values": "['Apparent Death' 'Unconscious' 'Conscious' 'Shock' 'Semiconscious'\n 'Does Not Apply' 'Unknown' 'Incoherent']",
         "_deepnote_index_column": "EMOTIONAL_STATUS"
        },
        {
         "data type": "object",
         "percent missing": 0,
         "No. unique": 19,
         "unique values": "['Severe Bleeding' 'Internal' 'None Visible' 'Complaint of Pain or Nausea'\n 'Unknown' 'Concussion' 'Crush Injuries' 'Severe Lacerations'\n 'Fracture - Distorted - Dislocation' 'Minor Bleeding' 'Does Not Apply'\n 'Amputation' 'Contusion - Bruise' 'Whiplash' 'Abrasion' 'Minor Burn'\n 'Moderate Burn' 'Severe Burn' 'Paralysis']",
         "_deepnote_index_column": "COMPLAINT"
        }
       ]
      },
      "text/plain": "                      data type  percent missing  No. unique  \\\nCOLLISION_ID              int64         0.000000       33928   \nUNIQUE_ID                 int64         0.000000       45669   \nPERSON_AGE              float64         0.921851         126   \nVEHICLE_ID              float64        14.388316       31404   \nPED_ROLE                 object         0.000000           5   \nPOSITION_IN_VEHICLE      object        13.621932          11   \nCONTRIBUTING_FACTOR_1    object        85.640150          40   \nPERSON_ID                object         0.000000       45669   \nEMOTIONAL_STATUS         object         0.000000           8   \nCOMPLAINT                object         0.000000          19   \nCRASH_DATE               object         0.000000         320   \nCONTRIBUTING_FACTOR_2    object        85.666426          40   \nPED_LOCATION             object        85.611684           5   \nPERSON_TYPE              object         0.000000           4   \nPERSON_SEX               object         0.000000           3   \nSAFETY_EQUIPMENT         object        13.652587          17   \nBODILY_INJURY            object         0.000000          14   \nPERSON_INJURY            object         0.000000           2   \nCRASH_TIME               object         0.000000          24   \nPED_ACTION               object        85.611684          17   \nEJECTION                 object        13.663535           5   \n\n                                                           unique values  \nCOLLISION_ID           [4412948, 4419608, 4467504, 4408062, 4420918, ...  \nUNIQUE_ID              [11791937, 11819198, 11998317, 11745791, 11991...  \nPERSON_AGE             [62.0, 24.0, 30.0, 71.0, 69.0, 43.0, 81.0, 60....  \nVEHICLE_ID             [nan, 19986231.0, 20091024.0, 20083400.0, 1999...  \nPED_ROLE               [Pedestrian, Driver, Passenger, Other, In-Line...  \nPOSITION_IN_VEHICLE    [nan, Driver, Front passenger, if two or more ...  \nCONTRIBUTING_FACTOR_1  [Traffic Control Disregarded, nan, Pedestrian/...  \nPERSON_ID              [f2f329b6-2dfc-4bd0-b751-2e4255f1ea06, e27e12a...  \nEMOTIONAL_STATUS       [Apparent Death, Unconscious, Conscious, Shock...  \nCOMPLAINT              [Severe Bleeding, Internal, None Visible, Comp...  \nCRASH_DATE             [2021-05-02, 2021-05-21, 2021-10-15, 2021-04-1...  \nCONTRIBUTING_FACTOR_2  [Pedestrian/Bicyclist/Other Pedestrian Error/C...  \nPED_LOCATION           [Pedestrian/Bicyclist/Other Pedestrian at Inte...  \nPERSON_TYPE            [Pedestrian, Occupant, Bicyclist, Other Motori...  \nPERSON_SEX                                       [Female, Male, Unknown]  \nSAFETY_EQUIPMENT       [nan, Air Bag Deployed, None, Unknown, Lap Bel...  \nBODILY_INJURY          [Head, Entire Body, Chest, Unknown, Abdomen - ...  \nPERSON_INJURY                                          [Killed, Injured]  \nCRASH_TIME             [21:00, 0:00, 2:00, 13:00, 22:00, 23:00, 15:00...  \nPED_ACTION             [Crossing Against Signal, nan, Crossing, No Si...  \nEJECTION               [nan, Trapped, Not Ejected, Ejected, Partially...  ",
      "text/html": "<div>\n<style scoped>\n    .dataframe tbody tr th:only-of-type {\n        vertical-align: middle;\n    }\n\n    .dataframe tbody tr th {\n        vertical-align: top;\n    }\n\n    .dataframe thead th {\n        text-align: right;\n    }\n</style>\n<table border=\"1\" class=\"dataframe\">\n  <thead>\n    <tr style=\"text-align: right;\">\n      <th></th>\n      <th>data type</th>\n      <th>percent missing</th>\n      <th>No. unique</th>\n      <th>unique values</th>\n    </tr>\n  </thead>\n  <tbody>\n    <tr>\n      <th>COLLISION_ID</th>\n      <td>int64</td>\n      <td>0.000000</td>\n      <td>33928</td>\n      <td>[4412948, 4419608, 4467504, 4408062, 4420918, ...</td>\n    </tr>\n    <tr>\n      <th>UNIQUE_ID</th>\n      <td>int64</td>\n      <td>0.000000</td>\n      <td>45669</td>\n      <td>[11791937, 11819198, 11998317, 11745791, 11991...</td>\n    </tr>\n    <tr>\n      <th>PERSON_AGE</th>\n      <td>float64</td>\n      <td>0.921851</td>\n      <td>126</td>\n      <td>[62.0, 24.0, 30.0, 71.0, 69.0, 43.0, 81.0, 60....</td>\n    </tr>\n    <tr>\n      <th>VEHICLE_ID</th>\n      <td>float64</td>\n      <td>14.388316</td>\n      <td>31404</td>\n      <td>[nan, 19986231.0, 20091024.0, 20083400.0, 1999...</td>\n    </tr>\n    <tr>\n      <th>PED_ROLE</th>\n      <td>object</td>\n      <td>0.000000</td>\n      <td>5</td>\n      <td>[Pedestrian, Driver, Passenger, Other, In-Line...</td>\n    </tr>\n    <tr>\n      <th>POSITION_IN_VEHICLE</th>\n      <td>object</td>\n      <td>13.621932</td>\n      <td>11</td>\n      <td>[nan, Driver, Front passenger, if two or more ...</td>\n    </tr>\n    <tr>\n      <th>CONTRIBUTING_FACTOR_1</th>\n      <td>object</td>\n      <td>85.640150</td>\n      <td>40</td>\n      <td>[Traffic Control Disregarded, nan, Pedestrian/...</td>\n    </tr>\n    <tr>\n      <th>PERSON_ID</th>\n      <td>object</td>\n      <td>0.000000</td>\n      <td>45669</td>\n      <td>[f2f329b6-2dfc-4bd0-b751-2e4255f1ea06, e27e12a...</td>\n    </tr>\n    <tr>\n      <th>EMOTIONAL_STATUS</th>\n      <td>object</td>\n      <td>0.000000</td>\n      <td>8</td>\n      <td>[Apparent Death, Unconscious, Conscious, Shock...</td>\n    </tr>\n    <tr>\n      <th>COMPLAINT</th>\n      <td>object</td>\n      <td>0.000000</td>\n      <td>19</td>\n      <td>[Severe Bleeding, Internal, None Visible, Comp...</td>\n    </tr>\n    <tr>\n      <th>CRASH_DATE</th>\n      <td>object</td>\n      <td>0.000000</td>\n      <td>320</td>\n      <td>[2021-05-02, 2021-05-21, 2021-10-15, 2021-04-1...</td>\n    </tr>\n    <tr>\n      <th>CONTRIBUTING_FACTOR_2</th>\n      <td>object</td>\n      <td>85.666426</td>\n      <td>40</td>\n      <td>[Pedestrian/Bicyclist/Other Pedestrian Error/C...</td>\n    </tr>\n    <tr>\n      <th>PED_LOCATION</th>\n      <td>object</td>\n      <td>85.611684</td>\n      <td>5</td>\n      <td>[Pedestrian/Bicyclist/Other Pedestrian at Inte...</td>\n    </tr>\n    <tr>\n      <th>PERSON_TYPE</th>\n      <td>object</td>\n      <td>0.000000</td>\n      <td>4</td>\n      <td>[Pedestrian, Occupant, Bicyclist, Other Motori...</td>\n    </tr>\n    <tr>\n      <th>PERSON_SEX</th>\n      <td>object</td>\n      <td>0.000000</td>\n      <td>3</td>\n      <td>[Female, Male, Unknown]</td>\n    </tr>\n    <tr>\n      <th>SAFETY_EQUIPMENT</th>\n      <td>object</td>\n      <td>13.652587</td>\n      <td>17</td>\n      <td>[nan, Air Bag Deployed, None, Unknown, Lap Bel...</td>\n    </tr>\n    <tr>\n      <th>BODILY_INJURY</th>\n      <td>object</td>\n      <td>0.000000</td>\n      <td>14</td>\n      <td>[Head, Entire Body, Chest, Unknown, Abdomen - ...</td>\n    </tr>\n    <tr>\n      <th>PERSON_INJURY</th>\n      <td>object</td>\n      <td>0.000000</td>\n      <td>2</td>\n      <td>[Killed, Injured]</td>\n    </tr>\n    <tr>\n      <th>CRASH_TIME</th>\n      <td>object</td>\n      <td>0.000000</td>\n      <td>24</td>\n      <td>[21:00, 0:00, 2:00, 13:00, 22:00, 23:00, 15:00...</td>\n    </tr>\n    <tr>\n      <th>PED_ACTION</th>\n      <td>object</td>\n      <td>85.611684</td>\n      <td>17</td>\n      <td>[Crossing Against Signal, nan, Crossing, No Si...</td>\n    </tr>\n    <tr>\n      <th>EJECTION</th>\n      <td>object</td>\n      <td>13.663535</td>\n      <td>5</td>\n      <td>[nan, Trapped, Not Ejected, Ejected, Partially...</td>\n    </tr>\n  </tbody>\n</table>\n</div>"
     },
     "metadata": {}
    }
   ]
  },
  {
   "cell_type": "code",
   "metadata": {
    "cell_id": "2b4b724fc7c3438fbf1a7b84cce41cc1",
    "tags": [],
    "deepnote_to_be_reexecuted": false,
    "source_hash": "2007f58",
    "execution_start": 1655222564551,
    "execution_millis": 6,
    "deepnote_cell_type": "code",
    "deepnote_cell_height": 118.1875,
    "deepnote_output_heights": [
     21.1875
    ]
   },
   "source": "data.shape",
   "execution_count": 7,
   "outputs": [
    {
     "output_type": "execute_result",
     "execution_count": 7,
     "data": {
      "text/plain": "(45669, 21)"
     },
     "metadata": {}
    }
   ]
  },
  {
   "cell_type": "code",
   "metadata": {
    "cell_id": "bbc36eaa8f904862ba0d765e94896441",
    "tags": [],
    "deepnote_to_be_reexecuted": false,
    "source_hash": "c6399ffc",
    "execution_start": 1655222564558,
    "execution_millis": 12,
    "deepnote_cell_type": "code",
    "deepnote_cell_height": 81
   },
   "source": "data_clean = data[(data['PERSON_AGE'] > 0)]",
   "execution_count": 8,
   "outputs": []
  },
  {
   "cell_type": "code",
   "metadata": {
    "cell_id": "cf969ceff71949e0bc4f747457ea90b5",
    "tags": [],
    "deepnote_to_be_reexecuted": false,
    "source_hash": "b551a124",
    "execution_start": 1655222564574,
    "execution_millis": 7,
    "deepnote_cell_type": "code",
    "deepnote_cell_height": 118.1875,
    "deepnote_output_heights": [
     21.1875
    ]
   },
   "source": "data_clean.shape",
   "execution_count": 9,
   "outputs": [
    {
     "output_type": "execute_result",
     "execution_count": 9,
     "data": {
      "text/plain": "(45191, 21)"
     },
     "metadata": {}
    }
   ]
  },
  {
   "cell_type": "code",
   "metadata": {
    "cell_id": "0bc1976ea3e848a3aaa95dafa625add1",
    "tags": [],
    "deepnote_to_be_reexecuted": false,
    "source_hash": "5c0e4b95",
    "execution_start": 1655222564626,
    "execution_millis": 2,
    "deepnote_cell_type": "code",
    "deepnote_cell_height": 632.578125,
    "deepnote_output_heights": [
     null,
     366.796875
    ]
   },
   "source": "data_clean['PERSON_AGE'] = data_clean['PERSON_AGE'].fillna(np.median)\ndata_clean['PERSON_AGE'].unique()",
   "execution_count": 10,
   "outputs": [
    {
     "name": "stderr",
     "text": "/shared-libs/python3.7/py-core/lib/python3.7/site-packages/ipykernel_launcher.py:1: SettingWithCopyWarning: \nA value is trying to be set on a copy of a slice from a DataFrame.\nTry using .loc[row_indexer,col_indexer] = value instead\n\nSee the caveats in the documentation: https://pandas.pydata.org/pandas-docs/stable/user_guide/indexing.html#returning-a-view-versus-a-copy\n  \"\"\"Entry point for launching an IPython kernel.\n",
     "output_type": "stream"
    },
    {
     "output_type": "execute_result",
     "execution_count": 10,
     "data": {
      "text/plain": "array([6.200e+01, 2.400e+01, 3.000e+01, 7.100e+01, 6.900e+01, 4.300e+01,\n       8.100e+01, 6.000e+01, 5.200e+01, 2.100e+01, 5.700e+01, 3.300e+01,\n       2.000e+01, 5.500e+01, 7.300e+01, 2.600e+01, 3.400e+01, 6.700e+01,\n       8.600e+01, 5.400e+01, 6.800e+01, 5.800e+01, 3.900e+01, 5.600e+01,\n       2.300e+01, 2.900e+01, 1.900e+01, 4.600e+01, 5.300e+01, 1.210e+02,\n       6.100e+01, 3.600e+01, 1.800e+01, 5.100e+01, 4.200e+01, 6.400e+01,\n       2.500e+01, 4.500e+01, 4.000e+00, 9.000e+01, 8.200e+01, 6.500e+01,\n       5.000e+01, 7.800e+01, 2.700e+01, 3.500e+01, 7.400e+01, 9.200e+01,\n       1.000e+01, 7.000e+01, 2.200e+01, 4.000e+01, 3.100e+01, 4.100e+01,\n       7.700e+01, 2.000e+00, 4.400e+01, 5.900e+01, 3.800e+01, 3.700e+01,\n       9.500e+01, 8.400e+01, 9.700e+01, 9.100e+01, 6.600e+01, 2.800e+01,\n       6.000e+00, 3.200e+01, 7.200e+01, 1.600e+01, 4.900e+01, 6.300e+01,\n       8.500e+01, 4.800e+01, 4.700e+01, 8.000e+01, 7.500e+01, 1.300e+01,\n       1.500e+01, 5.000e+00, 1.200e+01, 1.000e+00, 1.700e+01, 1.400e+01,\n       1.200e+02, 1.100e+01, 1.120e+02, 7.000e+00, 7.900e+01, 9.000e+00,\n       7.600e+01, 3.000e+00, 8.800e+01, 8.900e+01, 8.000e+00, 8.300e+01,\n       8.700e+01, 9.300e+01, 9.400e+01, 1.981e+03, 1.000e+02, 9.900e+01,\n       4.043e+03, 4.030e+03, 9.999e+03, 1.055e+03, 8.480e+02, 9.990e+02,\n       5.210e+03, 1.050e+03, 3.035e+03])"
     },
     "metadata": {}
    }
   ]
  },
  {
   "cell_type": "code",
   "metadata": {
    "cell_id": "94692f326b1b4abe8732525c94015f06",
    "tags": [],
    "deepnote_to_be_reexecuted": false,
    "source_hash": "284c89c7",
    "execution_start": 1655222564627,
    "execution_millis": 261,
    "deepnote_cell_type": "code",
    "deepnote_cell_height": 600
   },
   "source": "sniff_modified(data_clean)",
   "execution_count": 11,
   "outputs": [
    {
     "output_type": "execute_result",
     "execution_count": 11,
     "data": {
      "application/vnd.deepnote.dataframe.v3+json": {
       "column_count": 4,
       "row_count": 21,
       "columns": [
        {
         "name": "data type",
         "dtype": "object",
         "stats": {
          "unique_count": 3,
          "nan_count": 0,
          "categories": [
           {
            "name": "object",
            "count": 17
           },
           {
            "name": "int64",
            "count": 2
           },
           {
            "name": "float64",
            "count": 2
           }
          ]
         }
        },
        {
         "name": "percent missing",
         "dtype": "float64",
         "stats": {
          "unique_count": 8,
          "nan_count": 0,
          "min": "0.0",
          "max": "85.83346241508265",
          "histogram": [
           {
            "bin_start": 0,
            "bin_end": 8.583346241508265,
            "count": 13
           },
           {
            "bin_start": 8.583346241508265,
            "bin_end": 17.16669248301653,
            "count": 4
           },
           {
            "bin_start": 17.16669248301653,
            "bin_end": 25.750038724524792,
            "count": 0
           },
           {
            "bin_start": 25.750038724524792,
            "bin_end": 34.33338496603306,
            "count": 0
           },
           {
            "bin_start": 34.33338496603306,
            "bin_end": 42.916731207541325,
            "count": 0
           },
           {
            "bin_start": 42.916731207541325,
            "bin_end": 51.500077449049584,
            "count": 0
           },
           {
            "bin_start": 51.500077449049584,
            "bin_end": 60.08342369055785,
            "count": 0
           },
           {
            "bin_start": 60.08342369055785,
            "bin_end": 68.66676993206612,
            "count": 0
           },
           {
            "bin_start": 68.66676993206612,
            "bin_end": 77.25011617357438,
            "count": 0
           },
           {
            "bin_start": 77.25011617357438,
            "bin_end": 85.83346241508265,
            "count": 4
           }
          ]
         }
        },
        {
         "name": "No. unique",
         "dtype": "int64",
         "stats": {
          "unique_count": 16,
          "nan_count": 0,
          "min": "2",
          "max": "45191",
          "histogram": [
           {
            "bin_start": 2,
            "bin_end": 4520.9,
            "count": 17
           },
           {
            "bin_start": 4520.9,
            "bin_end": 9039.8,
            "count": 0
           },
           {
            "bin_start": 9039.8,
            "bin_end": 13558.699999999999,
            "count": 0
           },
           {
            "bin_start": 13558.699999999999,
            "bin_end": 18077.6,
            "count": 0
           },
           {
            "bin_start": 18077.6,
            "bin_end": 22596.5,
            "count": 0
           },
           {
            "bin_start": 22596.5,
            "bin_end": 27115.399999999998,
            "count": 0
           },
           {
            "bin_start": 27115.399999999998,
            "bin_end": 31634.299999999996,
            "count": 1
           },
           {
            "bin_start": 31634.299999999996,
            "bin_end": 36153.2,
            "count": 1
           },
           {
            "bin_start": 36153.2,
            "bin_end": 40672.1,
            "count": 0
           },
           {
            "bin_start": 40672.1,
            "bin_end": 45191,
            "count": 2
           }
          ]
         }
        },
        {
         "name": "unique values",
         "dtype": "object",
         "stats": {
          "unique_count": 21,
          "nan_count": 0,
          "categories": [
           {
            "name": "[4412948 4419608 4467504 ... 4411119 4415414 4415201]",
            "count": 1
           },
           {
            "name": "[11791937 11819198 11998317 ... 11758963 11828495 12030648]",
            "count": 1
           },
           {
            "name": "19 others",
            "count": 19
           }
          ]
         }
        },
        {
         "name": "_deepnote_index_column",
         "dtype": "object"
        }
       ],
       "rows": [
        {
         "data type": "int64",
         "percent missing": 0,
         "No. unique": 33679,
         "unique values": "[4412948 4419608 4467504 ... 4411119 4415414 4415201]",
         "_deepnote_index_column": "COLLISION_ID"
        },
        {
         "data type": "int64",
         "percent missing": 0,
         "No. unique": 45191,
         "unique values": "[11791937 11819198 11998317 ... 11758963 11828495 12030648]",
         "_deepnote_index_column": "UNIQUE_ID"
        },
        {
         "data type": "float64",
         "percent missing": 0,
         "No. unique": 111,
         "unique values": "[6.200e+01 2.400e+01 3.000e+01 7.100e+01 6.900e+01 4.300e+01 8.100e+01\n 6.000e+01 5.200e+01 2.100e+01 5.700e+01 3.300e+01 2.000e+01 5.500e+01\n 7.300e+01 2.600e+01 3.400e+01 6.700e+01 8.600e+01 5.400e+01 6.800e+01\n 5.800e+01 3.900e+01 5.600e+01 2.300e+01 2.900e+01 1.900e+01 4.600e+01\n 5.300e+01 1.210e+02 6.100e+01 3.600e+01 1.800e+01 5.100e+01 4.200e+01\n 6.400e+01 2.500e+01 4.500e+01 4.000e+00 9.000e+01 8.200e+01 6.500e+01\n 5.000e+01 7.800e+01 2.700e+01 3.500e+01 7.400e+01 9.200e+01 1.000e+01\n 7.000e+01 2.200e+01 4.000e+01 3.100e+01 4.100e+01 7.700e+01 2.000e+00\n 4.400e+01 5.900e+01 3.800e+01 3.700e+01 9.500e+01 8.400e+01 9.700e+01\n 9.100e+01 6.600e+01 2.800e+01 6.000e+00 3.200e+01 7.200e+01 1.600e+01\n 4.900e+01 6.300e+01 8.500e+01 4.800e+01 4.700e+01 8.000e+01 7.500e+01\n 1.300e+01 1.500e+01 5.000e+00 1.200e+01 1.000e+00 1.700e+01 1.400e+01\n 1.200e+02 1.100e+01 1.120e+02 7.000e+00 7.900e+01 9.000e+00 7.600e+01\n 3.000e+00 8.800e+01 8.900e+01 8.000e+00 8.300e+01 8.700e+01 9.300e+01\n 9.40…",
         "_deepnote_index_column": "PERSON_AGE"
        },
        {
         "data type": "float64",
         "percent missing": 14.21964550463588,
         "No. unique": 31240,
         "unique values": "[      nan 19986231. 20091024. ... 19966687. 19951136. 19991766.]",
         "_deepnote_index_column": "VEHICLE_ID"
        },
        {
         "data type": "object",
         "percent missing": 0,
         "No. unique": 5,
         "unique values": "['Pedestrian' 'Driver' 'Passenger' 'Other' 'In-Line Skater']",
         "_deepnote_index_column": "PED_ROLE"
        },
        {
         "data type": "object",
         "percent missing": 13.451793498705495,
         "No. unique": 11,
         "unique values": "[nan 'Driver'\n 'Front passenger, if two or more persons, including the driver, are in the front seat'\n 'Right rear passenger or motorcycle sidecar passenger'\n 'Riding/Hanging on Outside'\n 'Left rear passenger, or rear passenger on a bicycle, motorcycle, snowmobile'\n 'Middle rear seat, or passenger lying across a seat'\n 'Any person in the rear of a station wagon, pick-up truck, all passengers on a bus, etc'\n 'Middle front seat, or passenger lying across a seat' 'Unknown'\n 'If one person is seated on another person&apos;s lap']",
         "_deepnote_index_column": "POSITION_IN_VEHICLE"
        },
        {
         "data type": "object",
         "percent missing": 85.80690845522338,
         "No. unique": 40,
         "unique values": "['Traffic Control Disregarded' nan\n 'Pedestrian/Bicyclist/Other Pedestrian Error/Confusion' 'Unspecified'\n 'Alcohol Involvement' 'Other Vehicular' 'Driver Inattention/Distraction'\n 'Physical Disability' 'Failure to Yield Right-of-Way'\n 'Passing Too Closely' 'Following Too Closely' 'Driver Inexperience'\n 'Turning Improperly' 'Backing Unsafely' 'Outside Car Distraction'\n 'Cell Phone (hand-Held)' 'Unsafe Speed' 'Cell Phone (hands-free)'\n 'Fell Asleep' 'Passing or Lane Usage Improper' 'View Obstructed/Limited'\n 'Drugs (illegal)' 'Oversized Vehicle' 'Reaction to Uninvolved Vehicle'\n 'Aggressive Driving/Road Rage' 'Animals Action' 'Fatigued/Drowsy'\n 'Passenger Distraction' 'Traffic Control Device Improper/Non-Working'\n 'Obstruction/Debris' 'Texting' 'Driverless/Runaway Vehicle' 'Illnes'\n 'Pavement Slippery' 'Eating or Drinking' 'Failure to Keep Right'\n 'Listening/Using Headphones' 'Lane Marking Improper/Inadequate'\n 'Unsafe Lane Changing' 'Brakes Defective']",
         "_deepnote_index_column": "CONTRIBUTING_FACTOR_1"
        },
        {
         "data type": "object",
         "percent missing": 0,
         "No. unique": 45191,
         "unique values": "['f2f329b6-2dfc-4bd0-b751-2e4255f1ea06'\n 'e27e12a2-0485-4e22-b692-3f8a765d2582'\n '1a6f5aa7-5125-4be2-8499-fe7977cb0d90' ...\n 'c70e93ff-cb5f-4e15-b888-0f17a1ede0cd'\n 'bb039a41-8563-493b-9fd1-a5bcd15fbb33'\n '8fc5e0f7-66da-4e62-b7f1-a0e8dbdb0ea6']",
         "_deepnote_index_column": "PERSON_ID"
        },
        {
         "data type": "object",
         "percent missing": 0,
         "No. unique": 8,
         "unique values": "['Apparent Death' 'Unconscious' 'Conscious' 'Shock' 'Semiconscious'\n 'Does Not Apply' 'Unknown' 'Incoherent']",
         "_deepnote_index_column": "EMOTIONAL_STATUS"
        },
        {
         "data type": "object",
         "percent missing": 0,
         "No. unique": 19,
         "unique values": "['Severe Bleeding' 'Internal' 'None Visible' 'Complaint of Pain or Nausea'\n 'Unknown' 'Concussion' 'Crush Injuries' 'Severe Lacerations'\n 'Fracture - Distorted - Dislocation' 'Minor Bleeding' 'Does Not Apply'\n 'Amputation' 'Contusion - Bruise' 'Whiplash' 'Abrasion' 'Minor Burn'\n 'Moderate Burn' 'Severe Burn' 'Paralysis']",
         "_deepnote_index_column": "COMPLAINT"
        }
       ]
      },
      "text/plain": "                      data type  percent missing  No. unique  \\\nCOLLISION_ID              int64         0.000000       33679   \nUNIQUE_ID                 int64         0.000000       45191   \nPERSON_AGE              float64         0.000000         111   \nVEHICLE_ID              float64        14.219646       31240   \nPED_ROLE                 object         0.000000           5   \nPOSITION_IN_VEHICLE      object        13.451793          11   \nCONTRIBUTING_FACTOR_1    object        85.806908          40   \nPERSON_ID                object         0.000000       45191   \nEMOTIONAL_STATUS         object         0.000000           8   \nCOMPLAINT                object         0.000000          19   \nCRASH_DATE               object         0.000000         320   \nCONTRIBUTING_FACTOR_2    object        85.833462          40   \nPED_LOCATION             object        85.780354           5   \nPERSON_TYPE              object         0.000000           4   \nPERSON_SEX               object         0.000000           3   \nSAFETY_EQUIPMENT         object        13.487199          17   \nBODILY_INJURY            object         0.000000          14   \nPERSON_INJURY            object         0.000000           2   \nCRASH_TIME               object         0.000000          24   \nPED_ACTION               object        85.780354          17   \nEJECTION                 object        13.496050           5   \n\n                                                           unique values  \nCOLLISION_ID           [4412948, 4419608, 4467504, 4408062, 4420918, ...  \nUNIQUE_ID              [11791937, 11819198, 11998317, 11745791, 11991...  \nPERSON_AGE             [62.0, 24.0, 30.0, 71.0, 69.0, 43.0, 81.0, 60....  \nVEHICLE_ID             [nan, 19986231.0, 20091024.0, 20083400.0, 1999...  \nPED_ROLE               [Pedestrian, Driver, Passenger, Other, In-Line...  \nPOSITION_IN_VEHICLE    [nan, Driver, Front passenger, if two or more ...  \nCONTRIBUTING_FACTOR_1  [Traffic Control Disregarded, nan, Pedestrian/...  \nPERSON_ID              [f2f329b6-2dfc-4bd0-b751-2e4255f1ea06, e27e12a...  \nEMOTIONAL_STATUS       [Apparent Death, Unconscious, Conscious, Shock...  \nCOMPLAINT              [Severe Bleeding, Internal, None Visible, Comp...  \nCRASH_DATE             [2021-05-02, 2021-05-21, 2021-10-15, 2021-04-1...  \nCONTRIBUTING_FACTOR_2  [Pedestrian/Bicyclist/Other Pedestrian Error/C...  \nPED_LOCATION           [Pedestrian/Bicyclist/Other Pedestrian at Inte...  \nPERSON_TYPE            [Pedestrian, Occupant, Bicyclist, Other Motori...  \nPERSON_SEX                                       [Female, Male, Unknown]  \nSAFETY_EQUIPMENT       [nan, Air Bag Deployed, None, Unknown, Lap Bel...  \nBODILY_INJURY          [Head, Entire Body, Chest, Unknown, Abdomen - ...  \nPERSON_INJURY                                          [Killed, Injured]  \nCRASH_TIME             [21:00, 0:00, 2:00, 13:00, 22:00, 23:00, 15:00...  \nPED_ACTION             [Crossing Against Signal, nan, Crossing, No Si...  \nEJECTION               [nan, Trapped, Not Ejected, Ejected, Partially...  ",
      "text/html": "<div>\n<style scoped>\n    .dataframe tbody tr th:only-of-type {\n        vertical-align: middle;\n    }\n\n    .dataframe tbody tr th {\n        vertical-align: top;\n    }\n\n    .dataframe thead th {\n        text-align: right;\n    }\n</style>\n<table border=\"1\" class=\"dataframe\">\n  <thead>\n    <tr style=\"text-align: right;\">\n      <th></th>\n      <th>data type</th>\n      <th>percent missing</th>\n      <th>No. unique</th>\n      <th>unique values</th>\n    </tr>\n  </thead>\n  <tbody>\n    <tr>\n      <th>COLLISION_ID</th>\n      <td>int64</td>\n      <td>0.000000</td>\n      <td>33679</td>\n      <td>[4412948, 4419608, 4467504, 4408062, 4420918, ...</td>\n    </tr>\n    <tr>\n      <th>UNIQUE_ID</th>\n      <td>int64</td>\n      <td>0.000000</td>\n      <td>45191</td>\n      <td>[11791937, 11819198, 11998317, 11745791, 11991...</td>\n    </tr>\n    <tr>\n      <th>PERSON_AGE</th>\n      <td>float64</td>\n      <td>0.000000</td>\n      <td>111</td>\n      <td>[62.0, 24.0, 30.0, 71.0, 69.0, 43.0, 81.0, 60....</td>\n    </tr>\n    <tr>\n      <th>VEHICLE_ID</th>\n      <td>float64</td>\n      <td>14.219646</td>\n      <td>31240</td>\n      <td>[nan, 19986231.0, 20091024.0, 20083400.0, 1999...</td>\n    </tr>\n    <tr>\n      <th>PED_ROLE</th>\n      <td>object</td>\n      <td>0.000000</td>\n      <td>5</td>\n      <td>[Pedestrian, Driver, Passenger, Other, In-Line...</td>\n    </tr>\n    <tr>\n      <th>POSITION_IN_VEHICLE</th>\n      <td>object</td>\n      <td>13.451793</td>\n      <td>11</td>\n      <td>[nan, Driver, Front passenger, if two or more ...</td>\n    </tr>\n    <tr>\n      <th>CONTRIBUTING_FACTOR_1</th>\n      <td>object</td>\n      <td>85.806908</td>\n      <td>40</td>\n      <td>[Traffic Control Disregarded, nan, Pedestrian/...</td>\n    </tr>\n    <tr>\n      <th>PERSON_ID</th>\n      <td>object</td>\n      <td>0.000000</td>\n      <td>45191</td>\n      <td>[f2f329b6-2dfc-4bd0-b751-2e4255f1ea06, e27e12a...</td>\n    </tr>\n    <tr>\n      <th>EMOTIONAL_STATUS</th>\n      <td>object</td>\n      <td>0.000000</td>\n      <td>8</td>\n      <td>[Apparent Death, Unconscious, Conscious, Shock...</td>\n    </tr>\n    <tr>\n      <th>COMPLAINT</th>\n      <td>object</td>\n      <td>0.000000</td>\n      <td>19</td>\n      <td>[Severe Bleeding, Internal, None Visible, Comp...</td>\n    </tr>\n    <tr>\n      <th>CRASH_DATE</th>\n      <td>object</td>\n      <td>0.000000</td>\n      <td>320</td>\n      <td>[2021-05-02, 2021-05-21, 2021-10-15, 2021-04-1...</td>\n    </tr>\n    <tr>\n      <th>CONTRIBUTING_FACTOR_2</th>\n      <td>object</td>\n      <td>85.833462</td>\n      <td>40</td>\n      <td>[Pedestrian/Bicyclist/Other Pedestrian Error/C...</td>\n    </tr>\n    <tr>\n      <th>PED_LOCATION</th>\n      <td>object</td>\n      <td>85.780354</td>\n      <td>5</td>\n      <td>[Pedestrian/Bicyclist/Other Pedestrian at Inte...</td>\n    </tr>\n    <tr>\n      <th>PERSON_TYPE</th>\n      <td>object</td>\n      <td>0.000000</td>\n      <td>4</td>\n      <td>[Pedestrian, Occupant, Bicyclist, Other Motori...</td>\n    </tr>\n    <tr>\n      <th>PERSON_SEX</th>\n      <td>object</td>\n      <td>0.000000</td>\n      <td>3</td>\n      <td>[Female, Male, Unknown]</td>\n    </tr>\n    <tr>\n      <th>SAFETY_EQUIPMENT</th>\n      <td>object</td>\n      <td>13.487199</td>\n      <td>17</td>\n      <td>[nan, Air Bag Deployed, None, Unknown, Lap Bel...</td>\n    </tr>\n    <tr>\n      <th>BODILY_INJURY</th>\n      <td>object</td>\n      <td>0.000000</td>\n      <td>14</td>\n      <td>[Head, Entire Body, Chest, Unknown, Abdomen - ...</td>\n    </tr>\n    <tr>\n      <th>PERSON_INJURY</th>\n      <td>object</td>\n      <td>0.000000</td>\n      <td>2</td>\n      <td>[Killed, Injured]</td>\n    </tr>\n    <tr>\n      <th>CRASH_TIME</th>\n      <td>object</td>\n      <td>0.000000</td>\n      <td>24</td>\n      <td>[21:00, 0:00, 2:00, 13:00, 22:00, 23:00, 15:00...</td>\n    </tr>\n    <tr>\n      <th>PED_ACTION</th>\n      <td>object</td>\n      <td>85.780354</td>\n      <td>17</td>\n      <td>[Crossing Against Signal, nan, Crossing, No Si...</td>\n    </tr>\n    <tr>\n      <th>EJECTION</th>\n      <td>object</td>\n      <td>13.496050</td>\n      <td>5</td>\n      <td>[nan, Trapped, Not Ejected, Ejected, Partially...</td>\n    </tr>\n  </tbody>\n</table>\n</div>"
     },
     "metadata": {}
    }
   ]
  },
  {
   "cell_type": "code",
   "metadata": {
    "cell_id": "7b3deab73cd54aa5a98e634c8bb2bb8f",
    "tags": [],
    "deepnote_to_be_reexecuted": false,
    "source_hash": "512cf110",
    "execution_start": 1655222564891,
    "execution_millis": 19,
    "deepnote_cell_type": "code",
    "deepnote_cell_height": 81
   },
   "source": "data_clean = data_clean[(data_clean['PERSON_AGE'] < 116)]",
   "execution_count": 12,
   "outputs": []
  },
  {
   "cell_type": "code",
   "metadata": {
    "cell_id": "2ea1f54d57624489ac42cac4d639c065",
    "tags": [],
    "deepnote_to_be_reexecuted": false,
    "source_hash": "b551a124",
    "execution_start": 1655222564919,
    "execution_millis": 11,
    "deepnote_cell_type": "code",
    "deepnote_cell_height": 118.1875,
    "deepnote_output_heights": [
     21.1875
    ]
   },
   "source": "data_clean.shape",
   "execution_count": 13,
   "outputs": [
    {
     "output_type": "execute_result",
     "execution_count": 13,
     "data": {
      "text/plain": "(45172, 21)"
     },
     "metadata": {}
    }
   ]
  },
  {
   "cell_type": "code",
   "metadata": {
    "cell_id": "6fd0ee2a5e954c1b8248108563a17b19",
    "tags": [],
    "deepnote_to_be_reexecuted": false,
    "source_hash": "c16fc626",
    "execution_start": 1655222564923,
    "execution_millis": 75,
    "deepnote_table_state": {
     "pageSize": 25,
     "pageIndex": 0,
     "filters": [],
     "sortBy": []
    },
    "deepnote_table_loading": false,
    "deepnote_cell_type": "code",
    "deepnote_cell_height": 518
   },
   "source": "data_clean.describe()",
   "execution_count": 14,
   "outputs": [
    {
     "output_type": "execute_result",
     "execution_count": 14,
     "data": {
      "application/vnd.deepnote.dataframe.v3+json": {
       "column_count": 4,
       "row_count": 8,
       "columns": [
        {
         "name": "PERSON_AGE",
         "dtype": "float64",
         "stats": {
          "unique_count": 8,
          "nan_count": 0,
          "min": "1.0",
          "max": "45172.0",
          "histogram": [
           {
            "bin_start": 1,
            "bin_end": 4518.1,
            "count": 7
           },
           {
            "bin_start": 4518.1,
            "bin_end": 9035.2,
            "count": 0
           },
           {
            "bin_start": 9035.2,
            "bin_end": 13552.300000000001,
            "count": 0
           },
           {
            "bin_start": 13552.300000000001,
            "bin_end": 18069.4,
            "count": 0
           },
           {
            "bin_start": 18069.4,
            "bin_end": 22586.5,
            "count": 0
           },
           {
            "bin_start": 22586.5,
            "bin_end": 27103.600000000002,
            "count": 0
           },
           {
            "bin_start": 27103.600000000002,
            "bin_end": 31620.700000000004,
            "count": 0
           },
           {
            "bin_start": 31620.700000000004,
            "bin_end": 36137.8,
            "count": 0
           },
           {
            "bin_start": 36137.8,
            "bin_end": 40654.9,
            "count": 0
           },
           {
            "bin_start": 40654.9,
            "bin_end": 45172,
            "count": 1
           }
          ]
         }
        },
        {
         "name": "VEHICLE_ID",
         "dtype": "float64",
         "stats": {
          "unique_count": 8,
          "nan_count": 0,
          "min": "38748.0",
          "max": "20109925.0",
          "histogram": [
           {
            "bin_start": 38748,
            "bin_end": 2045865.7,
            "count": 2
           },
           {
            "bin_start": 2045865.7,
            "bin_end": 4052983.4,
            "count": 0
           },
           {
            "bin_start": 4052983.4,
            "bin_end": 6060101.1,
            "count": 0
           },
           {
            "bin_start": 6060101.1,
            "bin_end": 8067218.8,
            "count": 0
           },
           {
            "bin_start": 8067218.8,
            "bin_end": 10074336.5,
            "count": 0
           },
           {
            "bin_start": 10074336.5,
            "bin_end": 12081454.2,
            "count": 0
           },
           {
            "bin_start": 12081454.2,
            "bin_end": 14088571.9,
            "count": 0
           },
           {
            "bin_start": 14088571.9,
            "bin_end": 16095689.6,
            "count": 0
           },
           {
            "bin_start": 16095689.6,
            "bin_end": 18102807.3,
            "count": 0
           },
           {
            "bin_start": 18102807.3,
            "bin_end": 20109925,
            "count": 6
           }
          ]
         }
        },
        {
         "name": "UNIQUE_ID",
         "dtype": "float64",
         "stats": {
          "unique_count": 8,
          "nan_count": 0,
          "min": "45172.0",
          "max": "12031464.0",
          "histogram": [
           {
            "bin_start": 45172,
            "bin_end": 1243801.2,
            "count": 2
           },
           {
            "bin_start": 1243801.2,
            "bin_end": 2442430.4,
            "count": 0
           },
           {
            "bin_start": 2442430.4,
            "bin_end": 3641059.5999999996,
            "count": 0
           },
           {
            "bin_start": 3641059.5999999996,
            "bin_end": 4839688.8,
            "count": 0
           },
           {
            "bin_start": 4839688.8,
            "bin_end": 6038318,
            "count": 0
           },
           {
            "bin_start": 6038318,
            "bin_end": 7236947.199999999,
            "count": 0
           },
           {
            "bin_start": 7236947.199999999,
            "bin_end": 8435576.4,
            "count": 0
           },
           {
            "bin_start": 8435576.4,
            "bin_end": 9634205.6,
            "count": 0
           },
           {
            "bin_start": 9634205.6,
            "bin_end": 10832834.799999999,
            "count": 0
           },
           {
            "bin_start": 10832834.799999999,
            "bin_end": 12031464,
            "count": 6
           }
          ]
         }
        },
        {
         "name": "COLLISION_ID",
         "dtype": "float64",
         "stats": {
          "unique_count": 8,
          "nan_count": 0,
          "min": "27529.001149329666",
          "max": "4478832.0",
          "histogram": [
           {
            "bin_start": 27529.001149329666,
            "bin_end": 472659.3010343967,
            "count": 2
           },
           {
            "bin_start": 472659.3010343967,
            "bin_end": 917789.6009194638,
            "count": 0
           },
           {
            "bin_start": 917789.6009194638,
            "bin_end": 1362919.9008045306,
            "count": 0
           },
           {
            "bin_start": 1362919.9008045306,
            "bin_end": 1808050.2006895978,
            "count": 0
           },
           {
            "bin_start": 1808050.2006895978,
            "bin_end": 2253180.500574665,
            "count": 0
           },
           {
            "bin_start": 2253180.500574665,
            "bin_end": 2698310.800459732,
            "count": 0
           },
           {
            "bin_start": 2698310.800459732,
            "bin_end": 3143441.100344799,
            "count": 0
           },
           {
            "bin_start": 3143441.100344799,
            "bin_end": 3588571.400229866,
            "count": 0
           },
           {
            "bin_start": 3588571.400229866,
            "bin_end": 4033701.7001149333,
            "count": 0
           },
           {
            "bin_start": 4033701.7001149333,
            "bin_end": 4478832,
            "count": 6
           }
          ]
         }
        },
        {
         "name": "_deepnote_index_column",
         "dtype": "object"
        }
       ],
       "rows": [
        {
         "PERSON_AGE": 45172,
         "VEHICLE_ID": 38748,
         "UNIQUE_ID": 45172,
         "COLLISION_ID": 45172,
         "_deepnote_index_column": "count"
        },
        {
         "PERSON_AGE": 36.81025856725405,
         "VEHICLE_ID": 19996619.605940953,
         "UNIQUE_ID": 11835845.829141947,
         "COLLISION_ID": 4431722.689165855,
         "_deepnote_index_column": "mean"
        },
        {
         "PERSON_AGE": 16.536154151022973,
         "VEHICLE_ID": 79397.68882887278,
         "UNIQUE_ID": 137558.14448027159,
         "COLLISION_ID": 27529.001149329666,
         "_deepnote_index_column": "std"
        },
        {
         "PERSON_AGE": 1,
         "VEHICLE_ID": 19821967,
         "UNIQUE_ID": 11537246,
         "COLLISION_ID": 4380715,
         "_deepnote_index_column": "min"
        },
        {
         "PERSON_AGE": 25,
         "VEHICLE_ID": 19960775,
         "UNIQUE_ID": 11772990.75,
         "COLLISION_ID": 4408775.5,
         "_deepnote_index_column": "25%"
        },
        {
         "PERSON_AGE": 34,
         "VEHICLE_ID": 20008701,
         "UNIQUE_ID": 11856745,
         "COLLISION_ID": 4432338,
         "_deepnote_index_column": "50%"
        },
        {
         "PERSON_AGE": 48,
         "VEHICLE_ID": 20058683,
         "UNIQUE_ID": 11944106.75,
         "COLLISION_ID": 4455381.5,
         "_deepnote_index_column": "75%"
        },
        {
         "PERSON_AGE": 112,
         "VEHICLE_ID": 20109925,
         "UNIQUE_ID": 12031464,
         "COLLISION_ID": 4478832,
         "_deepnote_index_column": "max"
        }
       ]
      },
      "text/plain": "         PERSON_AGE    VEHICLE_ID     UNIQUE_ID  COLLISION_ID\ncount  45172.000000  3.874800e+04  4.517200e+04  4.517200e+04\nmean      36.810259  1.999662e+07  1.183585e+07  4.431723e+06\nstd       16.536154  7.939769e+04  1.375581e+05  2.752900e+04\nmin        1.000000  1.982197e+07  1.153725e+07  4.380715e+06\n25%       25.000000  1.996078e+07  1.177299e+07  4.408776e+06\n50%       34.000000  2.000870e+07  1.185674e+07  4.432338e+06\n75%       48.000000  2.005868e+07  1.194411e+07  4.455382e+06\nmax      112.000000  2.010992e+07  1.203146e+07  4.478832e+06",
      "text/html": "<div>\n<style scoped>\n    .dataframe tbody tr th:only-of-type {\n        vertical-align: middle;\n    }\n\n    .dataframe tbody tr th {\n        vertical-align: top;\n    }\n\n    .dataframe thead th {\n        text-align: right;\n    }\n</style>\n<table border=\"1\" class=\"dataframe\">\n  <thead>\n    <tr style=\"text-align: right;\">\n      <th></th>\n      <th>PERSON_AGE</th>\n      <th>VEHICLE_ID</th>\n      <th>UNIQUE_ID</th>\n      <th>COLLISION_ID</th>\n    </tr>\n  </thead>\n  <tbody>\n    <tr>\n      <th>count</th>\n      <td>45172.000000</td>\n      <td>3.874800e+04</td>\n      <td>4.517200e+04</td>\n      <td>4.517200e+04</td>\n    </tr>\n    <tr>\n      <th>mean</th>\n      <td>36.810259</td>\n      <td>1.999662e+07</td>\n      <td>1.183585e+07</td>\n      <td>4.431723e+06</td>\n    </tr>\n    <tr>\n      <th>std</th>\n      <td>16.536154</td>\n      <td>7.939769e+04</td>\n      <td>1.375581e+05</td>\n      <td>2.752900e+04</td>\n    </tr>\n    <tr>\n      <th>min</th>\n      <td>1.000000</td>\n      <td>1.982197e+07</td>\n      <td>1.153725e+07</td>\n      <td>4.380715e+06</td>\n    </tr>\n    <tr>\n      <th>25%</th>\n      <td>25.000000</td>\n      <td>1.996078e+07</td>\n      <td>1.177299e+07</td>\n      <td>4.408776e+06</td>\n    </tr>\n    <tr>\n      <th>50%</th>\n      <td>34.000000</td>\n      <td>2.000870e+07</td>\n      <td>1.185674e+07</td>\n      <td>4.432338e+06</td>\n    </tr>\n    <tr>\n      <th>75%</th>\n      <td>48.000000</td>\n      <td>2.005868e+07</td>\n      <td>1.194411e+07</td>\n      <td>4.455382e+06</td>\n    </tr>\n    <tr>\n      <th>max</th>\n      <td>112.000000</td>\n      <td>2.010992e+07</td>\n      <td>1.203146e+07</td>\n      <td>4.478832e+06</td>\n    </tr>\n  </tbody>\n</table>\n</div>"
     },
     "metadata": {}
    }
   ]
  },
  {
   "cell_type": "code",
   "metadata": {
    "cell_id": "cc8e703584074e1f8a8bea41b637d05e",
    "tags": [],
    "deepnote_to_be_reexecuted": false,
    "source_hash": "e764cb9e",
    "execution_start": 1655222564999,
    "execution_millis": 36,
    "deepnote_cell_type": "code",
    "deepnote_cell_height": 521.375,
    "deepnote_output_heights": [
     424.390625
    ]
   },
   "source": "data_clean.isnull().sum()",
   "execution_count": 15,
   "outputs": [
    {
     "output_type": "execute_result",
     "execution_count": 15,
     "data": {
      "text/plain": "CRASH_DATE                   0\nCRASH_TIME                   0\nPERSON_INJURY                0\nPERSON_AGE                   0\nBODILY_INJURY                0\nSAFETY_EQUIPMENT          6093\nPERSON_SEX                   0\nPERSON_TYPE                  0\nPED_LOCATION             38748\nCONTRIBUTING_FACTOR_2    38772\nEJECTION                  6097\nCOMPLAINT                    0\nEMOTIONAL_STATUS             0\nVEHICLE_ID                6424\nPERSON_ID                    0\nCONTRIBUTING_FACTOR_1    38760\nPOSITION_IN_VEHICLE       6077\nPED_ROLE                     0\nUNIQUE_ID                    0\nPED_ACTION               38748\nCOLLISION_ID                 0\ndtype: int64"
     },
     "metadata": {}
    }
   ]
  },
  {
   "cell_type": "code",
   "metadata": {
    "cell_id": "ddf4ebff5d714fdcb6809031fedfda6a",
    "tags": [],
    "deepnote_to_be_reexecuted": false,
    "source_hash": "935e0b00",
    "execution_start": 1655222565043,
    "execution_millis": 57,
    "deepnote_cell_type": "code",
    "deepnote_cell_height": 347.375,
    "deepnote_output_heights": [
     232.390625
    ]
   },
   "source": "data_clean['VEHICLE_ID'] = data_clean['VEHICLE_ID'].fillna(0)\ndata_clean['VEHICLE_ID']",
   "execution_count": 16,
   "outputs": [
    {
     "output_type": "execute_result",
     "execution_count": 16,
     "data": {
      "text/plain": "0               0.0\n1        19986231.0\n2        20091024.0\n3               0.0\n4               0.0\n            ...    \n45664    19988552.0\n45665    19966687.0\n45666    19951136.0\n45667    19991766.0\n45668    20109461.0\nName: VEHICLE_ID, Length: 45172, dtype: float64"
     },
     "metadata": {}
    }
   ]
  },
  {
   "cell_type": "code",
   "metadata": {
    "cell_id": "2d6a0817c8b948449f79901b012d14c8",
    "tags": [],
    "deepnote_to_be_reexecuted": false,
    "source_hash": "eb46c205",
    "execution_start": 1655222565144,
    "execution_millis": 6,
    "deepnote_cell_type": "code",
    "deepnote_cell_height": 617
   },
   "source": "data_clean = data_clean.fillna(\"MISSING\")",
   "execution_count": 17,
   "outputs": []
  },
  {
   "cell_type": "code",
   "metadata": {
    "cell_id": "1e814976a3054b17a4e42475d00810d4",
    "tags": [],
    "deepnote_to_be_reexecuted": false,
    "source_hash": "5e2671c",
    "execution_start": 1655222565153,
    "execution_millis": 361,
    "deepnote_cell_type": "code",
    "deepnote_cell_height": 635
   },
   "source": "data_clean['CRASH_DATE'] = pd.to_datetime(data_clean['CRASH_DATE'])\ndata_clean",
   "execution_count": 18,
   "outputs": [
    {
     "output_type": "execute_result",
     "execution_count": 18,
     "data": {
      "application/vnd.deepnote.dataframe.v3+json": {
       "column_count": 21,
       "row_count": 45172,
       "columns": [
        {
         "name": "CRASH_DATE",
         "dtype": "datetime64[ns]",
         "stats": {
          "unique_count": 320,
          "nan_count": 0,
          "min": "2021-01-01 00:00:00",
          "max": "2021-11-16 00:00:00",
          "histogram": [
           {
            "bin_start": 1609459200000000000,
            "bin_end": 1612215360000000000,
            "count": 3123
           },
           {
            "bin_start": 1612215360000000000,
            "bin_end": 1614971520000000000,
            "count": 3002
           },
           {
            "bin_start": 1614971520000000000,
            "bin_end": 1617727680000000000,
            "count": 3813
           },
           {
            "bin_start": 1617727680000000000,
            "bin_end": 1620483840000000000,
            "count": 4579
           },
           {
            "bin_start": 1620483840000000000,
            "bin_end": 1623240000000000000,
            "count": 5191
           },
           {
            "bin_start": 1623240000000000000,
            "bin_end": 1625996160000000000,
            "count": 5227
           },
           {
            "bin_start": 1625996160000000000,
            "bin_end": 1628752320000000000,
            "count": 5049
           },
           {
            "bin_start": 1628752320000000000,
            "bin_end": 1631508480000000000,
            "count": 5133
           },
           {
            "bin_start": 1631508480000000000,
            "bin_end": 1634264640000000000,
            "count": 5093
           },
           {
            "bin_start": 1634264640000000000,
            "bin_end": 1637020800000000000,
            "count": 4962
           }
          ]
         }
        },
        {
         "name": "CRASH_TIME",
         "dtype": "object",
         "stats": {
          "unique_count": 24,
          "nan_count": 0,
          "categories": [
           {
            "name": "16:00",
            "count": 2982
           },
           {
            "name": "17:00",
            "count": 2878
           },
           {
            "name": "22 others",
            "count": 39312
           }
          ]
         }
        },
        {
         "name": "PERSON_INJURY",
         "dtype": "object"
        },
        {
         "name": "PERSON_AGE",
         "dtype": "float64"
        },
        {
         "name": "BODILY_INJURY",
         "dtype": "object"
        },
        {
         "name": "SAFETY_EQUIPMENT",
         "dtype": "object"
        },
        {
         "name": "PERSON_SEX",
         "dtype": "object"
        },
        {
         "name": "PERSON_TYPE",
         "dtype": "object"
        },
        {
         "name": "PED_LOCATION",
         "dtype": "object"
        },
        {
         "name": "CONTRIBUTING_FACTOR_2",
         "dtype": "object"
        },
        {
         "name": "EJECTION",
         "dtype": "object"
        },
        {
         "name": "COMPLAINT",
         "dtype": "object"
        },
        {
         "name": "EMOTIONAL_STATUS",
         "dtype": "object"
        },
        {
         "name": "VEHICLE_ID",
         "dtype": "float64"
        },
        {
         "name": "PERSON_ID",
         "dtype": "object"
        },
        {
         "name": "CONTRIBUTING_FACTOR_1",
         "dtype": "object"
        },
        {
         "name": "POSITION_IN_VEHICLE",
         "dtype": "object"
        },
        {
         "name": "PED_ROLE",
         "dtype": "object"
        },
        {
         "name": "UNIQUE_ID",
         "dtype": "int64"
        },
        {
         "name": "PED_ACTION",
         "dtype": "object"
        },
        {
         "name": "COLLISION_ID",
         "dtype": "int64"
        },
        {
         "name": "_deepnote_index_column",
         "dtype": "int64"
        }
       ],
       "rows": [
        {
         "CRASH_DATE": "2021-05-02T00:00:00.000000",
         "CRASH_TIME": "21:00",
         "PERSON_INJURY": "Killed",
         "PERSON_AGE": 62,
         "BODILY_INJURY": "Head",
         "SAFETY_EQUIPMENT": "MISSING",
         "PERSON_SEX": "Female",
         "PERSON_TYPE": "Pedestrian",
         "PED_LOCATION": "Pedestrian/Bicyclist/Other Pedestrian at Intersection",
         "CONTRIBUTING_FACTOR_2": "Pedestrian/Bicyclist/Other Pedestrian Error/Confusion",
         "EJECTION": "MISSING",
         "COMPLAINT": "Severe Bleeding",
         "EMOTIONAL_STATUS": "Apparent Death",
         "VEHICLE_ID": 0,
         "PERSON_ID": "f2f329b6-2dfc-4bd0-b751-2e4255f1ea06",
         "CONTRIBUTING_FACTOR_1": "Traffic Control Disregarded",
         "POSITION_IN_VEHICLE": "MISSING",
         "PED_ROLE": "Pedestrian",
         "UNIQUE_ID": 11791937,
         "PED_ACTION": "Crossing Against Signal",
         "COLLISION_ID": 4412948,
         "_deepnote_index_column": 0
        },
        {
         "CRASH_DATE": "2021-05-21T00:00:00.000000",
         "CRASH_TIME": "0:00",
         "PERSON_INJURY": "Killed",
         "PERSON_AGE": 24,
         "BODILY_INJURY": "Entire Body",
         "SAFETY_EQUIPMENT": "Air Bag Deployed",
         "PERSON_SEX": "Male",
         "PERSON_TYPE": "Occupant",
         "PED_LOCATION": "MISSING",
         "CONTRIBUTING_FACTOR_2": "MISSING",
         "EJECTION": "Trapped",
         "COMPLAINT": "Internal",
         "EMOTIONAL_STATUS": "Apparent Death",
         "VEHICLE_ID": 19986231,
         "PERSON_ID": "e27e12a2-0485-4e22-b692-3f8a765d2582",
         "CONTRIBUTING_FACTOR_1": "MISSING",
         "POSITION_IN_VEHICLE": "Driver",
         "PED_ROLE": "Driver",
         "UNIQUE_ID": 11819198,
         "PED_ACTION": "MISSING",
         "COLLISION_ID": 4419608,
         "_deepnote_index_column": 1
        },
        {
         "CRASH_DATE": "2021-10-15T00:00:00.000000",
         "CRASH_TIME": "2:00",
         "PERSON_INJURY": "Killed",
         "PERSON_AGE": 30,
         "BODILY_INJURY": "Head",
         "SAFETY_EQUIPMENT": "None",
         "PERSON_SEX": "Male",
         "PERSON_TYPE": "Occupant",
         "PED_LOCATION": "MISSING",
         "CONTRIBUTING_FACTOR_2": "MISSING",
         "EJECTION": "Not Ejected",
         "COMPLAINT": "Internal",
         "EMOTIONAL_STATUS": "Apparent Death",
         "VEHICLE_ID": 20091024,
         "PERSON_ID": "1a6f5aa7-5125-4be2-8499-fe7977cb0d90",
         "CONTRIBUTING_FACTOR_1": "MISSING",
         "POSITION_IN_VEHICLE": "Driver",
         "PED_ROLE": "Driver",
         "UNIQUE_ID": 11998317,
         "PED_ACTION": "MISSING",
         "COLLISION_ID": 4467504,
         "_deepnote_index_column": 2
        },
        {
         "CRASH_DATE": "2021-04-17T00:00:00.000000",
         "CRASH_TIME": "13:00",
         "PERSON_INJURY": "Killed",
         "PERSON_AGE": 71,
         "BODILY_INJURY": "Head",
         "SAFETY_EQUIPMENT": "MISSING",
         "PERSON_SEX": "Male",
         "PERSON_TYPE": "Pedestrian",
         "PED_LOCATION": "Pedestrian/Bicyclist/Other Pedestrian Not at Intersection",
         "CONTRIBUTING_FACTOR_2": "Unspecified",
         "EJECTION": "MISSING",
         "COMPLAINT": "Internal",
         "EMOTIONAL_STATUS": "Unconscious",
         "VEHICLE_ID": 0,
         "PERSON_ID": "b950706b-00a4-485c-84c5-777208cc3cc9",
         "CONTRIBUTING_FACTOR_1": "Pedestrian/Bicyclist/Other Pedestrian Error/Confusion",
         "POSITION_IN_VEHICLE": "MISSING",
         "PED_ROLE": "Pedestrian",
         "UNIQUE_ID": 11745791,
         "PED_ACTION": "Crossing, No Signal, or Crosswalk",
         "COLLISION_ID": 4408062,
         "_deepnote_index_column": 3
        },
        {
         "CRASH_DATE": "2021-05-25T00:00:00.000000",
         "CRASH_TIME": "22:00",
         "PERSON_INJURY": "Killed",
         "PERSON_AGE": 69,
         "BODILY_INJURY": "Entire Body",
         "SAFETY_EQUIPMENT": "MISSING",
         "PERSON_SEX": "Female",
         "PERSON_TYPE": "Pedestrian",
         "PED_LOCATION": "Pedestrian/Bicyclist/Other Pedestrian Not at Intersection",
         "CONTRIBUTING_FACTOR_2": "Unspecified",
         "EJECTION": "MISSING",
         "COMPLAINT": "None Visible",
         "EMOTIONAL_STATUS": "Conscious",
         "VEHICLE_ID": 0,
         "PERSON_ID": "6504ea0a-c92d-444c-8127-284943be9aac",
         "CONTRIBUTING_FACTOR_1": "Unspecified",
         "POSITION_IN_VEHICLE": "MISSING",
         "PED_ROLE": "Pedestrian",
         "UNIQUE_ID": 11991283,
         "PED_ACTION": "Crossing, No Signal, Marked Crosswalk",
         "COLLISION_ID": 4420918,
         "_deepnote_index_column": 4
        },
        {
         "CRASH_DATE": "2021-04-08T00:00:00.000000",
         "CRASH_TIME": "23:00",
         "PERSON_INJURY": "Killed",
         "PERSON_AGE": 43,
         "BODILY_INJURY": "Head",
         "SAFETY_EQUIPMENT": "MISSING",
         "PERSON_SEX": "Male",
         "PERSON_TYPE": "Pedestrian",
         "PED_LOCATION": "Pedestrian/Bicyclist/Other Pedestrian at Intersection",
         "CONTRIBUTING_FACTOR_2": "Unspecified",
         "EJECTION": "MISSING",
         "COMPLAINT": "Internal",
         "EMOTIONAL_STATUS": "Unconscious",
         "VEHICLE_ID": 0,
         "PERSON_ID": "5d4760cc-99d2-45af-b673-15777906fe18",
         "CONTRIBUTING_FACTOR_1": "Pedestrian/Bicyclist/Other Pedestrian Error/Confusion",
         "POSITION_IN_VEHICLE": "MISSING",
         "PED_ROLE": "Pedestrian",
         "UNIQUE_ID": 11784113,
         "PED_ACTION": "Other Actions in Roadway",
         "COLLISION_ID": 4407069,
         "_deepnote_index_column": 5
        },
        {
         "CRASH_DATE": "2021-01-14T00:00:00.000000",
         "CRASH_TIME": "15:00",
         "PERSON_INJURY": "Killed",
         "PERSON_AGE": 81,
         "BODILY_INJURY": "Entire Body",
         "SAFETY_EQUIPMENT": "MISSING",
         "PERSON_SEX": "Male",
         "PERSON_TYPE": "Pedestrian",
         "PED_LOCATION": "Pedestrian/Bicyclist/Other Pedestrian Not at Intersection",
         "CONTRIBUTING_FACTOR_2": "Pedestrian/Bicyclist/Other Pedestrian Error/Confusion",
         "EJECTION": "MISSING",
         "COMPLAINT": "Complaint of Pain or Nausea",
         "EMOTIONAL_STATUS": "Apparent Death",
         "VEHICLE_ID": 0,
         "PERSON_ID": "8914628e-0494-4d6d-8d7d-d36abc5a5a73",
         "CONTRIBUTING_FACTOR_1": "Alcohol Involvement",
         "POSITION_IN_VEHICLE": "MISSING",
         "PED_ROLE": "Pedestrian",
         "UNIQUE_ID": 11589611,
         "PED_ACTION": "Crossing, No Signal, or Crosswalk",
         "COLLISION_ID": 4384065,
         "_deepnote_index_column": 6
        },
        {
         "CRASH_DATE": "2021-01-20T00:00:00.000000",
         "CRASH_TIME": "19:00",
         "PERSON_INJURY": "Killed",
         "PERSON_AGE": 60,
         "BODILY_INJURY": "Chest",
         "SAFETY_EQUIPMENT": "MISSING",
         "PERSON_SEX": "Male",
         "PERSON_TYPE": "Pedestrian",
         "PED_LOCATION": "Pedestrian/Bicyclist/Other Pedestrian Not at Intersection",
         "CONTRIBUTING_FACTOR_2": "Unspecified",
         "EJECTION": "MISSING",
         "COMPLAINT": "Internal",
         "EMOTIONAL_STATUS": "Apparent Death",
         "VEHICLE_ID": 0,
         "PERSON_ID": "2b94e71e-fc46-4648-ab4a-61ef283edbc8",
         "CONTRIBUTING_FACTOR_1": "Pedestrian/Bicyclist/Other Pedestrian Error/Confusion",
         "POSITION_IN_VEHICLE": "MISSING",
         "PED_ROLE": "Pedestrian",
         "UNIQUE_ID": 11558357,
         "PED_ACTION": "Crossing, No Signal, or Crosswalk",
         "COLLISION_ID": 4385848,
         "_deepnote_index_column": 7
        },
        {
         "CRASH_DATE": "2021-09-04T00:00:00.000000",
         "CRASH_TIME": "14:00",
         "PERSON_INJURY": "Killed",
         "PERSON_AGE": 52,
         "BODILY_INJURY": "Entire Body",
         "SAFETY_EQUIPMENT": "Unknown",
         "PERSON_SEX": "Male",
         "PERSON_TYPE": "Occupant",
         "PED_LOCATION": "MISSING",
         "CONTRIBUTING_FACTOR_2": "MISSING",
         "EJECTION": "Not Ejected",
         "COMPLAINT": "Internal",
         "EMOTIONAL_STATUS": "Unconscious",
         "VEHICLE_ID": 20083400,
         "PERSON_ID": "f1d8ec06-018d-430c-8aef-ebe60e47d2a7",
         "CONTRIBUTING_FACTOR_1": "MISSING",
         "POSITION_IN_VEHICLE": "Driver",
         "PED_ROLE": "Driver",
         "UNIQUE_ID": 11985005,
         "PED_ACTION": "MISSING",
         "COLLISION_ID": 4453643,
         "_deepnote_index_column": 8
        },
        {
         "CRASH_DATE": "2021-05-03T00:00:00.000000",
         "CRASH_TIME": "23:00",
         "PERSON_INJURY": "Killed",
         "PERSON_AGE": 21,
         "BODILY_INJURY": "Head",
         "SAFETY_EQUIPMENT": "Lap Belt & Harness",
         "PERSON_SEX": "Male",
         "PERSON_TYPE": "Occupant",
         "PED_LOCATION": "MISSING",
         "CONTRIBUTING_FACTOR_2": "MISSING",
         "EJECTION": "Not Ejected",
         "COMPLAINT": "Internal",
         "EMOTIONAL_STATUS": "Unconscious",
         "VEHICLE_ID": 19993860,
         "PERSON_ID": "64974d87-d02f-42b1-a60b-58248a3e38de",
         "CONTRIBUTING_FACTOR_1": "MISSING",
         "POSITION_IN_VEHICLE": "Driver",
         "PED_ROLE": "Driver",
         "UNIQUE_ID": 11832119,
         "PED_ACTION": "MISSING",
         "COLLISION_ID": 4413273,
         "_deepnote_index_column": 9
        }
       ]
      },
      "text/plain": "      CRASH_DATE CRASH_TIME PERSON_INJURY  PERSON_AGE         BODILY_INJURY  \\\n0     2021-05-02      21:00        Killed        62.0                  Head   \n1     2021-05-21       0:00        Killed        24.0           Entire Body   \n2     2021-10-15       2:00        Killed        30.0                  Head   \n3     2021-04-17      13:00        Killed        71.0                  Head   \n4     2021-05-25      22:00        Killed        69.0           Entire Body   \n...          ...        ...           ...         ...                   ...   \n45664 2021-05-07       0:00       Injured        24.0                  Back   \n45665 2021-04-27      13:00       Injured        29.0   Knee-Lower Leg Foot   \n45666 2021-05-07      14:00       Injured         7.0                  Head   \n45667 2021-05-10      16:00       Injured        13.0  Elbow-Lower-Arm-Hand   \n45668 2021-11-09      13:00       Injured        29.0  Shoulder - Upper Arm   \n\n           SAFETY_EQUIPMENT PERSON_SEX PERSON_TYPE  \\\n0                   MISSING     Female  Pedestrian   \n1          Air Bag Deployed       Male    Occupant   \n2                      None       Male    Occupant   \n3                   MISSING       Male  Pedestrian   \n4                   MISSING     Female  Pedestrian   \n...                     ...        ...         ...   \n45664    Lap Belt & Harness       Male    Occupant   \n45665    Lap Belt & Harness       Male    Occupant   \n45666  Child Restraint Only     Female    Occupant   \n45667                  None     Female    Occupant   \n45668    Lap Belt & Harness       Male    Occupant   \n\n                                            PED_LOCATION  \\\n0      Pedestrian/Bicyclist/Other Pedestrian at Inter...   \n1                                                MISSING   \n2                                                MISSING   \n3      Pedestrian/Bicyclist/Other Pedestrian Not at I...   \n4      Pedestrian/Bicyclist/Other Pedestrian Not at I...   \n...                                                  ...   \n45664                                            MISSING   \n45665                                            MISSING   \n45666                                            MISSING   \n45667                                            MISSING   \n45668                                            MISSING   \n\n                                   CONTRIBUTING_FACTOR_2  ...  \\\n0      Pedestrian/Bicyclist/Other Pedestrian Error/Co...  ...   \n1                                                MISSING  ...   \n2                                                MISSING  ...   \n3                                            Unspecified  ...   \n4                                            Unspecified  ...   \n...                                                  ...  ...   \n45664                                            MISSING  ...   \n45665                                            MISSING  ...   \n45666                                            MISSING  ...   \n45667                                            MISSING  ...   \n45668                                            MISSING  ...   \n\n                         COMPLAINT EMOTIONAL_STATUS  VEHICLE_ID  \\\n0                  Severe Bleeding   Apparent Death         0.0   \n1                         Internal   Apparent Death  19986231.0   \n2                         Internal   Apparent Death  20091024.0   \n3                         Internal      Unconscious         0.0   \n4                     None Visible        Conscious         0.0   \n...                            ...              ...         ...   \n45664  Complaint of Pain or Nausea        Conscious  19988552.0   \n45665  Complaint of Pain or Nausea        Conscious  19966687.0   \n45666  Complaint of Pain or Nausea        Conscious  19951136.0   \n45667  Complaint of Pain or Nausea        Conscious  19991766.0   \n45668                 None Visible        Conscious  20109461.0   \n\n                                  PERSON_ID  \\\n0      f2f329b6-2dfc-4bd0-b751-2e4255f1ea06   \n1      e27e12a2-0485-4e22-b692-3f8a765d2582   \n2      1a6f5aa7-5125-4be2-8499-fe7977cb0d90   \n3      b950706b-00a4-485c-84c5-777208cc3cc9   \n4      6504ea0a-c92d-444c-8127-284943be9aac   \n...                                     ...   \n45664  051c2721-1533-4f48-bda4-273bd3725242   \n45665  017e3824-4cbe-409a-ba57-e741923a60a1   \n45666  c70e93ff-cb5f-4e15-b888-0f17a1ede0cd   \n45667  bb039a41-8563-493b-9fd1-a5bcd15fbb33   \n45668  8fc5e0f7-66da-4e62-b7f1-a0e8dbdb0ea6   \n\n                                   CONTRIBUTING_FACTOR_1  \\\n0                            Traffic Control Disregarded   \n1                                                MISSING   \n2                                                MISSING   \n3      Pedestrian/Bicyclist/Other Pedestrian Error/Co...   \n4                                            Unspecified   \n...                                                  ...   \n45664                                            MISSING   \n45665                                            MISSING   \n45666                                            MISSING   \n45667                                            MISSING   \n45668                                            MISSING   \n\n                                     POSITION_IN_VEHICLE    PED_ROLE  \\\n0                                                MISSING  Pedestrian   \n1                                                 Driver      Driver   \n2                                                 Driver      Driver   \n3                                                MISSING  Pedestrian   \n4                                                MISSING  Pedestrian   \n...                                                  ...         ...   \n45664                                             Driver      Driver   \n45665                                             Driver      Driver   \n45666  Left rear passenger, or rear passenger on a bi...   Passenger   \n45667  Right rear passenger or motorcycle sidecar pas...   Passenger   \n45668  Left rear passenger, or rear passenger on a bi...   Passenger   \n\n      UNIQUE_ID                             PED_ACTION COLLISION_ID  \n0      11791937                Crossing Against Signal      4412948  \n1      11819198                                MISSING      4419608  \n2      11998317                                MISSING      4467504  \n3      11745791      Crossing, No Signal, or Crosswalk      4408062  \n4      11991283  Crossing, No Signal, Marked Crosswalk      4420918  \n...         ...                                    ...          ...  \n45664  11823105                                MISSING      4414130  \n45665  11785808                                MISSING      4411119  \n45666  11758963                                MISSING      4415414  \n45667  11828495                                MISSING      4415201  \n45668  12030648                                MISSING      4476118  \n\n[45172 rows x 21 columns]",
      "text/html": "<div>\n<style scoped>\n    .dataframe tbody tr th:only-of-type {\n        vertical-align: middle;\n    }\n\n    .dataframe tbody tr th {\n        vertical-align: top;\n    }\n\n    .dataframe thead th {\n        text-align: right;\n    }\n</style>\n<table border=\"1\" class=\"dataframe\">\n  <thead>\n    <tr style=\"text-align: right;\">\n      <th></th>\n      <th>CRASH_DATE</th>\n      <th>CRASH_TIME</th>\n      <th>PERSON_INJURY</th>\n      <th>PERSON_AGE</th>\n      <th>BODILY_INJURY</th>\n      <th>SAFETY_EQUIPMENT</th>\n      <th>PERSON_SEX</th>\n      <th>PERSON_TYPE</th>\n      <th>PED_LOCATION</th>\n      <th>CONTRIBUTING_FACTOR_2</th>\n      <th>...</th>\n      <th>COMPLAINT</th>\n      <th>EMOTIONAL_STATUS</th>\n      <th>VEHICLE_ID</th>\n      <th>PERSON_ID</th>\n      <th>CONTRIBUTING_FACTOR_1</th>\n      <th>POSITION_IN_VEHICLE</th>\n      <th>PED_ROLE</th>\n      <th>UNIQUE_ID</th>\n      <th>PED_ACTION</th>\n      <th>COLLISION_ID</th>\n    </tr>\n  </thead>\n  <tbody>\n    <tr>\n      <th>0</th>\n      <td>2021-05-02</td>\n      <td>21:00</td>\n      <td>Killed</td>\n      <td>62.0</td>\n      <td>Head</td>\n      <td>MISSING</td>\n      <td>Female</td>\n      <td>Pedestrian</td>\n      <td>Pedestrian/Bicyclist/Other Pedestrian at Inter...</td>\n      <td>Pedestrian/Bicyclist/Other Pedestrian Error/Co...</td>\n      <td>...</td>\n      <td>Severe Bleeding</td>\n      <td>Apparent Death</td>\n      <td>0.0</td>\n      <td>f2f329b6-2dfc-4bd0-b751-2e4255f1ea06</td>\n      <td>Traffic Control Disregarded</td>\n      <td>MISSING</td>\n      <td>Pedestrian</td>\n      <td>11791937</td>\n      <td>Crossing Against Signal</td>\n      <td>4412948</td>\n    </tr>\n    <tr>\n      <th>1</th>\n      <td>2021-05-21</td>\n      <td>0:00</td>\n      <td>Killed</td>\n      <td>24.0</td>\n      <td>Entire Body</td>\n      <td>Air Bag Deployed</td>\n      <td>Male</td>\n      <td>Occupant</td>\n      <td>MISSING</td>\n      <td>MISSING</td>\n      <td>...</td>\n      <td>Internal</td>\n      <td>Apparent Death</td>\n      <td>19986231.0</td>\n      <td>e27e12a2-0485-4e22-b692-3f8a765d2582</td>\n      <td>MISSING</td>\n      <td>Driver</td>\n      <td>Driver</td>\n      <td>11819198</td>\n      <td>MISSING</td>\n      <td>4419608</td>\n    </tr>\n    <tr>\n      <th>2</th>\n      <td>2021-10-15</td>\n      <td>2:00</td>\n      <td>Killed</td>\n      <td>30.0</td>\n      <td>Head</td>\n      <td>None</td>\n      <td>Male</td>\n      <td>Occupant</td>\n      <td>MISSING</td>\n      <td>MISSING</td>\n      <td>...</td>\n      <td>Internal</td>\n      <td>Apparent Death</td>\n      <td>20091024.0</td>\n      <td>1a6f5aa7-5125-4be2-8499-fe7977cb0d90</td>\n      <td>MISSING</td>\n      <td>Driver</td>\n      <td>Driver</td>\n      <td>11998317</td>\n      <td>MISSING</td>\n      <td>4467504</td>\n    </tr>\n    <tr>\n      <th>3</th>\n      <td>2021-04-17</td>\n      <td>13:00</td>\n      <td>Killed</td>\n      <td>71.0</td>\n      <td>Head</td>\n      <td>MISSING</td>\n      <td>Male</td>\n      <td>Pedestrian</td>\n      <td>Pedestrian/Bicyclist/Other Pedestrian Not at I...</td>\n      <td>Unspecified</td>\n      <td>...</td>\n      <td>Internal</td>\n      <td>Unconscious</td>\n      <td>0.0</td>\n      <td>b950706b-00a4-485c-84c5-777208cc3cc9</td>\n      <td>Pedestrian/Bicyclist/Other Pedestrian Error/Co...</td>\n      <td>MISSING</td>\n      <td>Pedestrian</td>\n      <td>11745791</td>\n      <td>Crossing, No Signal, or Crosswalk</td>\n      <td>4408062</td>\n    </tr>\n    <tr>\n      <th>4</th>\n      <td>2021-05-25</td>\n      <td>22:00</td>\n      <td>Killed</td>\n      <td>69.0</td>\n      <td>Entire Body</td>\n      <td>MISSING</td>\n      <td>Female</td>\n      <td>Pedestrian</td>\n      <td>Pedestrian/Bicyclist/Other Pedestrian Not at I...</td>\n      <td>Unspecified</td>\n      <td>...</td>\n      <td>None Visible</td>\n      <td>Conscious</td>\n      <td>0.0</td>\n      <td>6504ea0a-c92d-444c-8127-284943be9aac</td>\n      <td>Unspecified</td>\n      <td>MISSING</td>\n      <td>Pedestrian</td>\n      <td>11991283</td>\n      <td>Crossing, No Signal, Marked Crosswalk</td>\n      <td>4420918</td>\n    </tr>\n    <tr>\n      <th>...</th>\n      <td>...</td>\n      <td>...</td>\n      <td>...</td>\n      <td>...</td>\n      <td>...</td>\n      <td>...</td>\n      <td>...</td>\n      <td>...</td>\n      <td>...</td>\n      <td>...</td>\n      <td>...</td>\n      <td>...</td>\n      <td>...</td>\n      <td>...</td>\n      <td>...</td>\n      <td>...</td>\n      <td>...</td>\n      <td>...</td>\n      <td>...</td>\n      <td>...</td>\n      <td>...</td>\n    </tr>\n    <tr>\n      <th>45664</th>\n      <td>2021-05-07</td>\n      <td>0:00</td>\n      <td>Injured</td>\n      <td>24.0</td>\n      <td>Back</td>\n      <td>Lap Belt &amp; Harness</td>\n      <td>Male</td>\n      <td>Occupant</td>\n      <td>MISSING</td>\n      <td>MISSING</td>\n      <td>...</td>\n      <td>Complaint of Pain or Nausea</td>\n      <td>Conscious</td>\n      <td>19988552.0</td>\n      <td>051c2721-1533-4f48-bda4-273bd3725242</td>\n      <td>MISSING</td>\n      <td>Driver</td>\n      <td>Driver</td>\n      <td>11823105</td>\n      <td>MISSING</td>\n      <td>4414130</td>\n    </tr>\n    <tr>\n      <th>45665</th>\n      <td>2021-04-27</td>\n      <td>13:00</td>\n      <td>Injured</td>\n      <td>29.0</td>\n      <td>Knee-Lower Leg Foot</td>\n      <td>Lap Belt &amp; Harness</td>\n      <td>Male</td>\n      <td>Occupant</td>\n      <td>MISSING</td>\n      <td>MISSING</td>\n      <td>...</td>\n      <td>Complaint of Pain or Nausea</td>\n      <td>Conscious</td>\n      <td>19966687.0</td>\n      <td>017e3824-4cbe-409a-ba57-e741923a60a1</td>\n      <td>MISSING</td>\n      <td>Driver</td>\n      <td>Driver</td>\n      <td>11785808</td>\n      <td>MISSING</td>\n      <td>4411119</td>\n    </tr>\n    <tr>\n      <th>45666</th>\n      <td>2021-05-07</td>\n      <td>14:00</td>\n      <td>Injured</td>\n      <td>7.0</td>\n      <td>Head</td>\n      <td>Child Restraint Only</td>\n      <td>Female</td>\n      <td>Occupant</td>\n      <td>MISSING</td>\n      <td>MISSING</td>\n      <td>...</td>\n      <td>Complaint of Pain or Nausea</td>\n      <td>Conscious</td>\n      <td>19951136.0</td>\n      <td>c70e93ff-cb5f-4e15-b888-0f17a1ede0cd</td>\n      <td>MISSING</td>\n      <td>Left rear passenger, or rear passenger on a bi...</td>\n      <td>Passenger</td>\n      <td>11758963</td>\n      <td>MISSING</td>\n      <td>4415414</td>\n    </tr>\n    <tr>\n      <th>45667</th>\n      <td>2021-05-10</td>\n      <td>16:00</td>\n      <td>Injured</td>\n      <td>13.0</td>\n      <td>Elbow-Lower-Arm-Hand</td>\n      <td>None</td>\n      <td>Female</td>\n      <td>Occupant</td>\n      <td>MISSING</td>\n      <td>MISSING</td>\n      <td>...</td>\n      <td>Complaint of Pain or Nausea</td>\n      <td>Conscious</td>\n      <td>19991766.0</td>\n      <td>bb039a41-8563-493b-9fd1-a5bcd15fbb33</td>\n      <td>MISSING</td>\n      <td>Right rear passenger or motorcycle sidecar pas...</td>\n      <td>Passenger</td>\n      <td>11828495</td>\n      <td>MISSING</td>\n      <td>4415201</td>\n    </tr>\n    <tr>\n      <th>45668</th>\n      <td>2021-11-09</td>\n      <td>13:00</td>\n      <td>Injured</td>\n      <td>29.0</td>\n      <td>Shoulder - Upper Arm</td>\n      <td>Lap Belt &amp; Harness</td>\n      <td>Male</td>\n      <td>Occupant</td>\n      <td>MISSING</td>\n      <td>MISSING</td>\n      <td>...</td>\n      <td>None Visible</td>\n      <td>Conscious</td>\n      <td>20109461.0</td>\n      <td>8fc5e0f7-66da-4e62-b7f1-a0e8dbdb0ea6</td>\n      <td>MISSING</td>\n      <td>Left rear passenger, or rear passenger on a bi...</td>\n      <td>Passenger</td>\n      <td>12030648</td>\n      <td>MISSING</td>\n      <td>4476118</td>\n    </tr>\n  </tbody>\n</table>\n<p>45172 rows × 21 columns</p>\n</div>"
     },
     "metadata": {}
    }
   ]
  },
  {
   "cell_type": "code",
   "metadata": {
    "cell_id": "1f419fac91f94bb080dd51db62f62117",
    "tags": [],
    "deepnote_to_be_reexecuted": false,
    "source_hash": "d552bfa1",
    "execution_start": 1655222565516,
    "execution_millis": 840,
    "owner_user_id": "92da2773-258c-4966-a6a6-113a3218b4ce",
    "deepnote_cell_type": "code",
    "deepnote_cell_height": 81
   },
   "source": " data_clean.to_csv('Clean_NYC_Motor_Vehicle_Collisions.csv')",
   "execution_count": 19,
   "outputs": []
  },
  {
   "cell_type": "code",
   "metadata": {
    "cell_id": "70dc186df0b74cd9b798fc5b5494aa8e",
    "tags": [],
    "deepnote_to_be_reexecuted": false,
    "source_hash": "284c89c7",
    "execution_start": 1655222566356,
    "execution_millis": 275,
    "deepnote_table_state": {
     "pageSize": 10,
     "pageIndex": 0,
     "filters": [],
     "sortBy": []
    },
    "deepnote_table_loading": false,
    "deepnote_cell_type": "code",
    "deepnote_cell_height": 600
   },
   "source": "sniff_modified(data_clean)",
   "execution_count": 20,
   "outputs": [
    {
     "output_type": "execute_result",
     "execution_count": 20,
     "data": {
      "application/vnd.deepnote.dataframe.v3+json": {
       "column_count": 4,
       "row_count": 21,
       "columns": [
        {
         "name": "data type",
         "dtype": "object",
         "stats": {
          "unique_count": 4,
          "nan_count": 0,
          "categories": [
           {
            "name": "object",
            "count": 16
           },
           {
            "name": "int64",
            "count": 2
           },
           {
            "name": "2 others",
            "count": 3
           }
          ]
         }
        },
        {
         "name": "percent missing",
         "dtype": "float64",
         "stats": {
          "unique_count": 1,
          "nan_count": 0,
          "min": "0.0",
          "max": "0.0",
          "histogram": [
           {
            "bin_start": -0.5,
            "bin_end": -0.4,
            "count": 0
           },
           {
            "bin_start": -0.4,
            "bin_end": -0.3,
            "count": 0
           },
           {
            "bin_start": -0.3,
            "bin_end": -0.19999999999999996,
            "count": 0
           },
           {
            "bin_start": -0.19999999999999996,
            "bin_end": -0.09999999999999998,
            "count": 0
           },
           {
            "bin_start": -0.09999999999999998,
            "bin_end": 0,
            "count": 0
           },
           {
            "bin_start": 0,
            "bin_end": 0.10000000000000009,
            "count": 21
           },
           {
            "bin_start": 0.10000000000000009,
            "bin_end": 0.20000000000000007,
            "count": 0
           },
           {
            "bin_start": 0.20000000000000007,
            "bin_end": 0.30000000000000004,
            "count": 0
           },
           {
            "bin_start": 0.30000000000000004,
            "bin_end": 0.4,
            "count": 0
           },
           {
            "bin_start": 0.4,
            "bin_end": 0.5,
            "count": 0
           }
          ]
         }
        },
        {
         "name": "No. unique",
         "dtype": "int64",
         "stats": {
          "unique_count": 16,
          "nan_count": 0,
          "min": "2",
          "max": "45172",
          "histogram": [
           {
            "bin_start": 2,
            "bin_end": 4519,
            "count": 17
           },
           {
            "bin_start": 4519,
            "bin_end": 9036,
            "count": 0
           },
           {
            "bin_start": 9036,
            "bin_end": 13553,
            "count": 0
           },
           {
            "bin_start": 13553,
            "bin_end": 18070,
            "count": 0
           },
           {
            "bin_start": 18070,
            "bin_end": 22587,
            "count": 0
           },
           {
            "bin_start": 22587,
            "bin_end": 27104,
            "count": 0
           },
           {
            "bin_start": 27104,
            "bin_end": 31621,
            "count": 1
           },
           {
            "bin_start": 31621,
            "bin_end": 36138,
            "count": 1
           },
           {
            "bin_start": 36138,
            "bin_end": 40655,
            "count": 0
           },
           {
            "bin_start": 40655,
            "bin_end": 45172,
            "count": 2
           }
          ]
         }
        },
        {
         "name": "unique values",
         "dtype": "object",
         "stats": {
          "unique_count": 21,
          "nan_count": 0,
          "categories": [
           {
            "name": "['2021-05-02T00:00:00.000000000' '2021-05-21T00:00:00.000000000'\n '2021-10-15T00:00:00.000000000' '2021-04-17T00:00:00.000000000'\n '2021-05-25T00:00:00.000000000' '2021-04-08T00:00:00.000000000'\n '2021-01-14T00:00:00.000000000' '2021-01-20T00:00:00.000000000'\n '2021-09-04T00:00:00.000000000' '2021-05-03T00:00:00.000000000'\n '2021-06-12T00:00:00.000000000' '2021-05-01T00:00:00.000000000'\n '2021-07-03T00:00:00.000000000' '2021-03-12T00:00:00.000000000'\n '2021-09-11T00:00:00.000000000' '2021-01-06T00:00:00.000000000'\n '2021-11-01T00:00:00.000000000' '2021-07-30T00:00:00.000000000'\n '2021-07-09T00:00:00.000000000' '2021-01-13T00:00:00.000000000'\n '2021-08-09T00:00:00.000000000' '2021-07-07T00:00:00.000000000'\n '2021-02-16T00:00:00.000000000' '2021-05-20T00:00:00.000000000'\n '2021-05-24T00:00:00.000000000' '2021-10-19T00:00:00.000000000'\n '2021-11-11T00:00:00.000000000' '2021-01-22T00:00:00.000000000'\n '2021-01-07T00:00:00.000000000' '2021-04-19T00:00:00.000000000'\n '2021-05-17T00:00:00.000000000' '2021-06-13T00:00:00.000000000'\n '2021-07-26T00:00:00.000000000' '2021-03-22T00:00:00.000000000'\n '2021-11-14T00:00:00.000000000' '2021-10-13T00:00:00.000000000'\n '2021-04-15T00:00:00.000000000' '2021-08-27T00:00:00.000000000'\n '2021-06-24T00:00:00.000000000' '2021-03-28T00:00:00.000000000'\n '2021-06-10T00:00:00.000000000' '2021-10-29T00:00:00.000000000'\n '2021-05-14T00:00:00.000000000' '2021-04-21T00:00:00.000000000'\n '2021-07-08T00:00:00.000000000' '2021-09-25T00:00:00.000000000'\n '2021-10-14T00:00:00.000000000' '2021-07-19T00:00:00.000000000'\n '2021-06-11T00:00:00.000000000' '2021-02-06T00:00:00.000000000'\n '2021-07-29T00:00:00.000000000' '2021-10-10T00:00:00.000000000'\n '2021-06-18T00:00:00.000000000' '2021-02-17T00:00:00.000000000'\n '2021-01-04T00:00:00.000000000' '2021-09-28T00:00:00.000000000'\n '2021-05-23T00:00:00.000000000' '2021-03-05T00:00:00.000000000'\n '2021-06-04T00:00:00.000000000' '2021-08-14T00:00:00.000000000'\n '2021-05-13T00:00:00.000000000' '2021-11-10T00:00:00.000000000'\n '2021-08-31T00:00:00.000000000' '2021-04-27T00:00:00.000000000'\n '2021-10-23T00:00:00.000000000' '2021-07-10T00:00:00.000000000'\n '2021-08-01T00:00:00.000000000' '2021-07-22T00:00:00.000000000'\n '2021-08-13T00:00:00.000000000' '2021-10-11T00:00:00.000000000'\n '2021-03-04T00:00:00.000000000' '2021-07-13T00:00:00.000000000'\n '2021-01-30T00:00:00.000000000' '2021-07-24T00:00:00.000000000'\n '2021-08-21T00:00:00.000000000' '2021-09-19T00:00:00.000000000'\n '2021-04-22T00:00:00.000000000' '2021-01-02T00:00:00.000000000'\n '2021-06-29T00:00:00.000000000' '2021-06-01T00:00:00.000000000'\n '2021-02-13T00:00:00.000000000' '2021-04-10T00:00:00.000000000'\n '2021-10-24T00:00:00.000000000' '2021-02-15T00:00:00.000000000'\n '2021-04-18T00:00:00.000000000' '2021-04-26T00:00:00.000000000'\n '2021-11-09T00:00:00.000000000' '2021-07-01T00:00:00.000000000'\n '2021-10-07T00:00:00.000000000' '2021-11-05T00:00:00.000000000'\n '2021-04-23T00:00:00.000000000' '2021-04-29T00:00:00.000000000'\n '2021-05-28T00:00:00.000000000' '2021-08-28T00:00:00.000000000'\n '2021-06-16T00:00:00.000000000' '2021-04-04T00:00:00.000000000'\n '2021-06-15T00:00:00.000000000' '2021-05-26T00:00:00.000000000'\n '2021-03-10T00:00:00.000000000' '2021-04-25T00:00:00.000000000'\n '2021-05-11T00:00:00.000000000' '2021-03-09T00:00:00.000000000'\n '2021-02-22T00:00:00.000000000' '2021-05-09T00:00:00.000000000'\n '2021-03-24T00:00:00.000000000' '2021-04-07T00:00:00.000000000'\n '2021-02-18T00:00:00.000000000' '2021-10-06T00:00:00.000000000'\n '2021-08-03T00:00:00.000000000' '2021-04-24T00:00:00.000000000'\n '2021-10-04T00:00:00.000000000' '2021-10-12T00:00:00.000000000'\n '2021-10-17T00:00:00.000000000' '2021-03-18T00:00:00.000000000'\n '2021-09-07T00:00:00.000000000' '2021-11-03T00:00:00.000000000'\n '2021-03-13T00:00:00.000000000' '2021-10-18T00:00:00.000000000'\n '2021-02-24T00:00:00.000000000' '2021-04-09T00:00:00.000000000'\n '2021-09-18T00:00:00.000000000' '2021-10-02T00:00:00.000000000'\n '2021-08-24T00:00:00.000000000' '2021-07-11T00:00:00.000000000'\n '2021-10-28T00:00:00.000000000' '2021-09-10T00:00:00.000000000'\n '2021-06-20T00:00:00.000000000' '2021-11-02T00:00:00.000000000'\n '2021-09-21T00:00:00.000000000' '2021-08-17T00:00:00.000000000'\n '2021-02-26T00:00:00.000000000' '2021-01-29T00:00:00.000000000'\n '2021-05-18T00:00:00.000000000' '2021-03-30T00:00:00.000000000'\n '2021-04-13T00:00:00.000000000' '2021-05-30T00:00:00.000000000'\n '2021-08-10T00:00:00.000000000' '2021-07-14T00:00:00.000000000'\n '2021-05-06T00:00:00.000000000' '2021-06-28T00:00:00.000000000'\n '2021-05-22T00:00:00.000000000' '2021-10-22T00:00:00.000000000'\n '2021-08-08T00:00:00.000000000' '2021-08-05T00:00:00.000000000'\n '2021-08-15T00:00:00.000000000' '2021-07-31T00:00:00.000000000'\n '2021-07-16T00:00:00.000000000' '2021-08-26T00:00:00.000000000'\n '2021-09-20T00:00:00.000000000' '2021-11-16T00:00:00.000000000'\n '2021-08-29T00:00:00.000000000' '2021-04-03T00:00:00.000000000'\n '2021-06-17T00:00:00.000000000' '2021-01-01T00:00:00.000000000'\n '2021-09-05T00:00:00.000000000' '2021-03-03T00:00:00.000000000'\n '2021-06-19T00:00:00.000000000' '2021-05-19T00:00:00.000000000'\n '2021-04-01T00:00:00.000000000' '2021-09-27T00:00:00.000000000'\n '2021-08-07T00:00:00.000000000' '2021-07-18T00:00:00.000000000'\n '2021-07-28T00:00:00.000000000' '2021-09-02T00:00:00.000000000'\n '2021-05-31T00:00:00.000000000' '2021-08-18T00:00:00.000000000'\n '2021-08-20T00:00:00.000000000' '2021-08-16T00:00:00.000000000'\n '2021-08-19T00:00:00.000000000' '2021-08-06T00:00:00.000000000'\n '2021-08-12T00:00:00.000000000' '2021-06-26T00:00:00.000000000'\n '2021-08-11T00:00:00.000000000' '2021-07-12T00:00:00.000000000'\n '2021-07-17T00:00:00.000000000' '2021-07-20T00:00:00.000000000'\n '2021-06-08T00:00:00.000000000' '2021-07-02T00:00:00.000000000'\n '2021-08-04T00:00:00.000000000' '2021-08-22T00:00:00.000000000'\n '2021-03-17T00:00:00.000000000' '2021-08-23T00:00:00.000000000'\n '2021-08-02T00:00:00.000000000' '2021-07-27T00:00:00.000000000'\n '2021-07-25T00:00:00.000000000' '2021-07-23T00:00:00.000000000'\n '2021-06-05T00:00:00.000000000' '2021-07-04T00:00:00.000000000'\n '2021-06-30T00:00:00.000000000' '2021-06-14T00:00:00.000000000'\n '2021-06-23T00:00:00.000000000' '2021-07-15T00:00:00.000000000'\n '2021-08-25T00:00:00.000000000' '2021-09-03T00:00:00.000000000'\n '2021-09-01T00:00:00.000000000' '2021-08-30T00:00:00.000000000'\n '2021-09-06T00:00:00.000000000' '2021-09-09T00:00:00.000000000'\n '2021-09-08T00:00:00.000000000' '2021-07-06T00:00:00.000000000'\n '2021-07-21T00:00:00.000000000' '2021-06-21T00:00:00.000000000'\n '2021-06-25T00:00:00.000000000' '2021-03-26T00:00:00.000000000'\n '2021-06-06T00:00:00.000000000' '2021-05-29T00:00:00.000000000'\n '2021-07-05T00:00:00.000000000' '2021-06-27T00:00:00.000000000'\n '2021-03-29T00:00:00.000000000' '2021-05-08T00:00:00.000000000'\n '2021-03-20T00:00:00.000000000' '2021-01-15T00:00:00.000000000'\n '2021-05-04T00:00:00.000000000' '2021-03-27T00:00:00.000000000'\n '2021-04-05T00:00:00.000000000' '2021-04-20T00:00:00.000000000'\n '2021-04-12T00:00:00.000000000' '2021-06-03T00:00:00.000000000'\n '2021-06-02T00:00:00.000000000' '2021-04-14T00:00:00.000000000'\n '2021-05-05T00:00:00.000000000' '2021-06-09T00:00:00.000000000'\n '2021-04-11T00:00:00.000000000' '2021-04-16T00:00:00.000000000'\n '2021-03-21T00:00:00.000000000' '2021-06-22T00:00:00.000000000'\n '2021-04-28T00:00:00.000000000' '2021-05-07T00:00:00.000000000'\n '2021-05-27T00:00:00.000000000' '2021-03-31T00:00:00.000000000'\n '2021-06-07T00:00:00.000000000' '2021-04-06T00:00:00.000000000'\n '2021-04-02T00:00:00.000000000' '2021-05-12T00:00:00.000000000'\n '2021-03-23T00:00:00.000000000' '2021-03-15T00:00:00.000000000'\n '2021-05-10T00:00:00.000000000' '2021-04-30T00:00:00.000000000'\n '2021-05-16T00:00:00.000000000' '2021-02-05T00:00:00.000000000'\n '2021-02-27T00:00:00.000000000' '2021-03-19T00:00:00.000000000'\n '2021-02-04T00:00:00.000000000' '2021-03-25T00:00:00.000000000'\n '2021-05-15T00:00:00.000000000' '2021-03-16T00:00:00.000000000'\n '2021-01-27T00:00:00.000000000' '2021-03-01T00:00:00.000000000'\n '2021-02-21T00:00:00.000000000' '2021-02-08T00:00:00.000000000'\n '2021-10-25T00:00:00.000000000' '2021-09-22T00:00:00.000000000'\n '2021-10-16T00:00:00.000000000' '2021-10-21T00:00:00.000000000'\n '2021-10-20T00:00:00.000000000' '2021-10-01T00:00:00.000000000'\n '2021-10-26T00:00:00.000000000' '2021-09-30T00:00:00.000000000'\n '2021-10-03T00:00:00.000000000' '2021-09-26T00:00:00.000000000'\n '2021-10-09T00:00:00.000000000' '2021-10-05T00:00:00.000000000'\n '2021-09-29T00:00:00.000000000' '2021-09-14T00:00:00.000000000'\n '2021-10-08T00:00:00.000000000' '2021-10-30T00:00:00.000000000'\n '2021-09-24T00:00:00.000000000' '2021-10-27T00:00:00.000000000'\n '2021-09-23T00:00:00.000000000' '2021-10-31T00:00:00.000000000'\n '2021-01-23T00:00:00.000000000' '2021-09-17T00:00:00.000000000'\n '2021-09-12T00:00:00.000000000' '2021-09-13T00:00:00.000000000'\n '2021-09-15T00:00:00.000000000' '2021-11-12T00:00:00.000000000'\n '2021-11-07T00:00:00.000000000' '2021-11-08T00:00:00.000000000'\n '2021-11-06T00:00:00.000000000' '2021-11-13T00:00:00.000000000'\n '2021-11-04T00:00:00.000000000' '2021-11-15T00:00:00.000000000'\n '2021-09-16T00:00:00.000000000' '2021-02-25T00:00:00.000000000'\n '2021-01-19T00:00:00.000000000' '2021-01-10T00:00:00.000000000'\n '2021-03-08T00:00:00.000000000' '2021-03-02T00:00:00.000000000'\n '2021-03-07T00:00:00.000000000' '2021-01-18T00:00:00.000000000'\n '2021-03-14T00:00:00.000000000' '2021-02-09T00:00:00.000000000'\n '2021-02-23T00:00:00.000000000' '2021-01-28T00:00:00.000000000'\n '2021-01-25T00:00:00.000000000' '2021-01-16T00:00:00.000000000'\n '2021-02-14T00:00:00.000000000' '2021-03-11T00:00:00.000000000'\n '2021-02-10T00:00:00.000000000' '2021-02-02T00:00:00.000000000'\n '2021-02-11T00:00:00.000000000' '2021-03-06T00:00:00.000000000'\n '2021-02-19T00:00:00.000000000' '2021-02-28T00:00:00.000000000'\n '2021-01-08T00:00:00.000000000' '2021-02-20T00:00:00.000000000'\n '2021-01-26T00:00:00.000000000' '2021-02-12T00:00:00.000000000'\n '2021-01-12T00:00:00.000000000' '2021-02-07T00:00:00.000000000'\n '2021-01-24T00:00:00.000000000' '2021-02-01T00:00:00.000000000'\n '2021-01-17T00:00:00.000000000' '2021-01-11T00:00:00.000000000'\n '2021-01-31T00:00:00.000000000' '2021-01-21T00:00:00.000000000'\n '2021-01-03T00:00:00.000000000' '2021-01-09T00:00:00.000000000'\n '2021-01-05T00:00:00.000000000' '2021-02-03T00:00:00.000000000']",
            "count": 1
           },
           {
            "name": "[11791937 11819198 11998317 ... 11758963 11828495 12030648]",
            "count": 1
           },
           {
            "name": "19 others",
            "count": 19
           }
          ]
         }
        },
        {
         "name": "_deepnote_index_column",
         "dtype": "object"
        }
       ],
       "rows": [
        {
         "data type": "datetime64[ns]",
         "percent missing": 0,
         "No. unique": 320,
         "unique values": "['2021-05-02T00:00:00.000000000' '2021-05-21T00:00:00.000000000'\n '2021-10-15T00:00:00.000000000' '2021-04-17T00:00:00.000000000'\n '2021-05-25T00:00:00.000000000' '2021-04-08T00:00:00.000000000'\n '2021-01-14T00:00:00.000000000' '2021-01-20T00:00:00.000000000'\n '2021-09-04T00:00:00.000000000' '2021-05-03T00:00:00.000000000'\n '2021-06-12T00:00:00.000000000' '2021-05-01T00:00:00.000000000'\n '2021-07-03T00:00:00.000000000' '2021-03-12T00:00:00.000000000'\n '2021-09-11T00:00:00.000000000' '2021-01-06T00:00:00.000000000'\n '2021-11-01T00:00:00.000000000' '2021-07-30T00:00:00.000000000'\n '2021-07-09T00:00:00.000000000' '2021-01-13T00:00:00.000000000'\n '2021-08-09T00:00:00.000000000' '2021-07-07T00:00:00.000000000'\n '2021-02-16T00:00:00.000000000' '2021-05-20T00:00:00.000000000'\n '2021-05-24T00:00:00.000000000' '2021-10-19T00:00:00.000000000'\n '2021-11-11T00:00:00.000000000' '2021-01-22T00:00:00.000000000'\n '2021-01-07T00:00:00.000000000' '2021-04-19T00:00:00.000000000'\n '2021-05-17T00:00:00.00…",
         "_deepnote_index_column": "CRASH_DATE"
        },
        {
         "data type": "int64",
         "percent missing": 0,
         "No. unique": 45172,
         "unique values": "[11791937 11819198 11998317 ... 11758963 11828495 12030648]",
         "_deepnote_index_column": "UNIQUE_ID"
        },
        {
         "data type": "int64",
         "percent missing": 0,
         "No. unique": 33665,
         "unique values": "[4412948 4419608 4467504 ... 4411119 4415414 4415201]",
         "_deepnote_index_column": "COLLISION_ID"
        },
        {
         "data type": "float64",
         "percent missing": 0,
         "No. unique": 99,
         "unique values": "[ 62.  24.  30.  71.  69.  43.  81.  60.  52.  21.  57.  33.  20.  55.\n  73.  26.  34.  67.  86.  54.  68.  58.  39.  56.  23.  29.  19.  46.\n  53.  61.  36.  18.  51.  42.  64.  25.  45.   4.  90.  82.  65.  50.\n  78.  27.  35.  74.  92.  10.  70.  22.  40.  31.  41.  77.   2.  44.\n  59.  38.  37.  95.  84.  97.  91.  66.  28.   6.  32.  72.  16.  49.\n  63.  85.  48.  47.  80.  75.  13.  15.   5.  12.   1.  17.  14.  11.\n 112.   7.  79.   9.  76.   3.  88.  89.   8.  83.  87.  93.  94. 100.\n  99.]",
         "_deepnote_index_column": "PERSON_AGE"
        },
        {
         "data type": "float64",
         "percent missing": 0,
         "No. unique": 31226,
         "unique values": "[       0. 19986231. 20091024. ... 19966687. 19951136. 19991766.]",
         "_deepnote_index_column": "VEHICLE_ID"
        },
        {
         "data type": "object",
         "percent missing": 0,
         "No. unique": 24,
         "unique values": "['21:00' '0:00' '2:00' '13:00' '22:00' '23:00' '15:00' '19:00' '14:00'\n '16:00' '9:00' '8:00' '1:00' '18:00' '6:00' '5:00' '3:00' '10:00' '17:00'\n '12:00' '11:00' '20:00' '4:00' '7:00']",
         "_deepnote_index_column": "CRASH_TIME"
        },
        {
         "data type": "object",
         "percent missing": 0,
         "No. unique": 5,
         "unique values": "['Pedestrian' 'Driver' 'Passenger' 'Other' 'In-Line Skater']",
         "_deepnote_index_column": "PED_ROLE"
        },
        {
         "data type": "object",
         "percent missing": 0,
         "No. unique": 11,
         "unique values": "['MISSING' 'Driver'\n 'Front passenger, if two or more persons, including the driver, are in the front seat'\n 'Right rear passenger or motorcycle sidecar passenger'\n 'Riding/Hanging on Outside'\n 'Left rear passenger, or rear passenger on a bicycle, motorcycle, snowmobile'\n 'Middle rear seat, or passenger lying across a seat'\n 'Any person in the rear of a station wagon, pick-up truck, all passengers on a bus, etc'\n 'Middle front seat, or passenger lying across a seat' 'Unknown'\n 'If one person is seated on another person&apos;s lap']",
         "_deepnote_index_column": "POSITION_IN_VEHICLE"
        },
        {
         "data type": "object",
         "percent missing": 0,
         "No. unique": 40,
         "unique values": "['Traffic Control Disregarded' 'MISSING'\n 'Pedestrian/Bicyclist/Other Pedestrian Error/Confusion' 'Unspecified'\n 'Alcohol Involvement' 'Other Vehicular' 'Driver Inattention/Distraction'\n 'Physical Disability' 'Failure to Yield Right-of-Way'\n 'Passing Too Closely' 'Following Too Closely' 'Driver Inexperience'\n 'Turning Improperly' 'Backing Unsafely' 'Outside Car Distraction'\n 'Cell Phone (hand-Held)' 'Unsafe Speed' 'Cell Phone (hands-free)'\n 'Fell Asleep' 'Passing or Lane Usage Improper' 'View Obstructed/Limited'\n 'Drugs (illegal)' 'Oversized Vehicle' 'Reaction to Uninvolved Vehicle'\n 'Aggressive Driving/Road Rage' 'Animals Action' 'Fatigued/Drowsy'\n 'Passenger Distraction' 'Traffic Control Device Improper/Non-Working'\n 'Obstruction/Debris' 'Texting' 'Driverless/Runaway Vehicle' 'Illnes'\n 'Pavement Slippery' 'Eating or Drinking' 'Failure to Keep Right'\n 'Listening/Using Headphones' 'Lane Marking Improper/Inadequate'\n 'Unsafe Lane Changing' 'Brakes Defective']",
         "_deepnote_index_column": "CONTRIBUTING_FACTOR_1"
        },
        {
         "data type": "object",
         "percent missing": 0,
         "No. unique": 45172,
         "unique values": "['f2f329b6-2dfc-4bd0-b751-2e4255f1ea06'\n 'e27e12a2-0485-4e22-b692-3f8a765d2582'\n '1a6f5aa7-5125-4be2-8499-fe7977cb0d90' ...\n 'c70e93ff-cb5f-4e15-b888-0f17a1ede0cd'\n 'bb039a41-8563-493b-9fd1-a5bcd15fbb33'\n '8fc5e0f7-66da-4e62-b7f1-a0e8dbdb0ea6']",
         "_deepnote_index_column": "PERSON_ID"
        }
       ]
      },
      "text/plain": "                            data type  percent missing  No. unique  \\\nCRASH_DATE             datetime64[ns]              0.0         320   \nUNIQUE_ID                       int64              0.0       45172   \nCOLLISION_ID                    int64              0.0       33665   \nPERSON_AGE                    float64              0.0          99   \nVEHICLE_ID                    float64              0.0       31226   \nCRASH_TIME                     object              0.0          24   \nPED_ROLE                       object              0.0           5   \nPOSITION_IN_VEHICLE            object              0.0          11   \nCONTRIBUTING_FACTOR_1          object              0.0          40   \nPERSON_ID                      object              0.0       45172   \nEMOTIONAL_STATUS               object              0.0           8   \nCOMPLAINT                      object              0.0          19   \nPED_ACTION                     object              0.0          17   \nCONTRIBUTING_FACTOR_2          object              0.0          40   \nPED_LOCATION                   object              0.0           5   \nPERSON_TYPE                    object              0.0           4   \nPERSON_SEX                     object              0.0           3   \nSAFETY_EQUIPMENT               object              0.0          17   \nBODILY_INJURY                  object              0.0          14   \nPERSON_INJURY                  object              0.0           2   \nEJECTION                       object              0.0           5   \n\n                                                           unique values  \nCRASH_DATE             [2021-05-02T00:00:00.000000000, 2021-05-21T00:...  \nUNIQUE_ID              [11791937, 11819198, 11998317, 11745791, 11991...  \nCOLLISION_ID           [4412948, 4419608, 4467504, 4408062, 4420918, ...  \nPERSON_AGE             [62.0, 24.0, 30.0, 71.0, 69.0, 43.0, 81.0, 60....  \nVEHICLE_ID             [0.0, 19986231.0, 20091024.0, 20083400.0, 1999...  \nCRASH_TIME             [21:00, 0:00, 2:00, 13:00, 22:00, 23:00, 15:00...  \nPED_ROLE               [Pedestrian, Driver, Passenger, Other, In-Line...  \nPOSITION_IN_VEHICLE    [MISSING, Driver, Front passenger, if two or m...  \nCONTRIBUTING_FACTOR_1  [Traffic Control Disregarded, MISSING, Pedestr...  \nPERSON_ID              [f2f329b6-2dfc-4bd0-b751-2e4255f1ea06, e27e12a...  \nEMOTIONAL_STATUS       [Apparent Death, Unconscious, Conscious, Shock...  \nCOMPLAINT              [Severe Bleeding, Internal, None Visible, Comp...  \nPED_ACTION             [Crossing Against Signal, MISSING, Crossing, N...  \nCONTRIBUTING_FACTOR_2  [Pedestrian/Bicyclist/Other Pedestrian Error/C...  \nPED_LOCATION           [Pedestrian/Bicyclist/Other Pedestrian at Inte...  \nPERSON_TYPE            [Pedestrian, Occupant, Bicyclist, Other Motori...  \nPERSON_SEX                                       [Female, Male, Unknown]  \nSAFETY_EQUIPMENT       [MISSING, Air Bag Deployed, None, Unknown, Lap...  \nBODILY_INJURY          [Head, Entire Body, Chest, Unknown, Abdomen - ...  \nPERSON_INJURY                                          [Killed, Injured]  \nEJECTION               [MISSING, Trapped, Not Ejected, Ejected, Parti...  ",
      "text/html": "<div>\n<style scoped>\n    .dataframe tbody tr th:only-of-type {\n        vertical-align: middle;\n    }\n\n    .dataframe tbody tr th {\n        vertical-align: top;\n    }\n\n    .dataframe thead th {\n        text-align: right;\n    }\n</style>\n<table border=\"1\" class=\"dataframe\">\n  <thead>\n    <tr style=\"text-align: right;\">\n      <th></th>\n      <th>data type</th>\n      <th>percent missing</th>\n      <th>No. unique</th>\n      <th>unique values</th>\n    </tr>\n  </thead>\n  <tbody>\n    <tr>\n      <th>CRASH_DATE</th>\n      <td>datetime64[ns]</td>\n      <td>0.0</td>\n      <td>320</td>\n      <td>[2021-05-02T00:00:00.000000000, 2021-05-21T00:...</td>\n    </tr>\n    <tr>\n      <th>UNIQUE_ID</th>\n      <td>int64</td>\n      <td>0.0</td>\n      <td>45172</td>\n      <td>[11791937, 11819198, 11998317, 11745791, 11991...</td>\n    </tr>\n    <tr>\n      <th>COLLISION_ID</th>\n      <td>int64</td>\n      <td>0.0</td>\n      <td>33665</td>\n      <td>[4412948, 4419608, 4467504, 4408062, 4420918, ...</td>\n    </tr>\n    <tr>\n      <th>PERSON_AGE</th>\n      <td>float64</td>\n      <td>0.0</td>\n      <td>99</td>\n      <td>[62.0, 24.0, 30.0, 71.0, 69.0, 43.0, 81.0, 60....</td>\n    </tr>\n    <tr>\n      <th>VEHICLE_ID</th>\n      <td>float64</td>\n      <td>0.0</td>\n      <td>31226</td>\n      <td>[0.0, 19986231.0, 20091024.0, 20083400.0, 1999...</td>\n    </tr>\n    <tr>\n      <th>CRASH_TIME</th>\n      <td>object</td>\n      <td>0.0</td>\n      <td>24</td>\n      <td>[21:00, 0:00, 2:00, 13:00, 22:00, 23:00, 15:00...</td>\n    </tr>\n    <tr>\n      <th>PED_ROLE</th>\n      <td>object</td>\n      <td>0.0</td>\n      <td>5</td>\n      <td>[Pedestrian, Driver, Passenger, Other, In-Line...</td>\n    </tr>\n    <tr>\n      <th>POSITION_IN_VEHICLE</th>\n      <td>object</td>\n      <td>0.0</td>\n      <td>11</td>\n      <td>[MISSING, Driver, Front passenger, if two or m...</td>\n    </tr>\n    <tr>\n      <th>CONTRIBUTING_FACTOR_1</th>\n      <td>object</td>\n      <td>0.0</td>\n      <td>40</td>\n      <td>[Traffic Control Disregarded, MISSING, Pedestr...</td>\n    </tr>\n    <tr>\n      <th>PERSON_ID</th>\n      <td>object</td>\n      <td>0.0</td>\n      <td>45172</td>\n      <td>[f2f329b6-2dfc-4bd0-b751-2e4255f1ea06, e27e12a...</td>\n    </tr>\n    <tr>\n      <th>EMOTIONAL_STATUS</th>\n      <td>object</td>\n      <td>0.0</td>\n      <td>8</td>\n      <td>[Apparent Death, Unconscious, Conscious, Shock...</td>\n    </tr>\n    <tr>\n      <th>COMPLAINT</th>\n      <td>object</td>\n      <td>0.0</td>\n      <td>19</td>\n      <td>[Severe Bleeding, Internal, None Visible, Comp...</td>\n    </tr>\n    <tr>\n      <th>PED_ACTION</th>\n      <td>object</td>\n      <td>0.0</td>\n      <td>17</td>\n      <td>[Crossing Against Signal, MISSING, Crossing, N...</td>\n    </tr>\n    <tr>\n      <th>CONTRIBUTING_FACTOR_2</th>\n      <td>object</td>\n      <td>0.0</td>\n      <td>40</td>\n      <td>[Pedestrian/Bicyclist/Other Pedestrian Error/C...</td>\n    </tr>\n    <tr>\n      <th>PED_LOCATION</th>\n      <td>object</td>\n      <td>0.0</td>\n      <td>5</td>\n      <td>[Pedestrian/Bicyclist/Other Pedestrian at Inte...</td>\n    </tr>\n    <tr>\n      <th>PERSON_TYPE</th>\n      <td>object</td>\n      <td>0.0</td>\n      <td>4</td>\n      <td>[Pedestrian, Occupant, Bicyclist, Other Motori...</td>\n    </tr>\n    <tr>\n      <th>PERSON_SEX</th>\n      <td>object</td>\n      <td>0.0</td>\n      <td>3</td>\n      <td>[Female, Male, Unknown]</td>\n    </tr>\n    <tr>\n      <th>SAFETY_EQUIPMENT</th>\n      <td>object</td>\n      <td>0.0</td>\n      <td>17</td>\n      <td>[MISSING, Air Bag Deployed, None, Unknown, Lap...</td>\n    </tr>\n    <tr>\n      <th>BODILY_INJURY</th>\n      <td>object</td>\n      <td>0.0</td>\n      <td>14</td>\n      <td>[Head, Entire Body, Chest, Unknown, Abdomen - ...</td>\n    </tr>\n    <tr>\n      <th>PERSON_INJURY</th>\n      <td>object</td>\n      <td>0.0</td>\n      <td>2</td>\n      <td>[Killed, Injured]</td>\n    </tr>\n    <tr>\n      <th>EJECTION</th>\n      <td>object</td>\n      <td>0.0</td>\n      <td>5</td>\n      <td>[MISSING, Trapped, Not Ejected, Ejected, Parti...</td>\n    </tr>\n  </tbody>\n</table>\n</div>"
     },
     "metadata": {}
    }
   ]
  },
  {
   "cell_type": "markdown",
   "source": "<a style='text-decoration:none;line-height:16px;display:flex;color:#5B5B62;padding:10px;justify-content:end;' href='https://deepnote.com?utm_source=created-in-deepnote-cell&projectId=8cf74670-64ee-416c-acff-9642a5fab334' target=\"_blank\">\n<img alt='Created in deepnote.com' style='display:inline;max-height:16px;margin:0px;margin-right:7.5px;' src='data:image/svg+xml;base64,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' > </img>\nCreated in <span style='font-weight:600;margin-left:4px;'>Deepnote</span></a>",
   "metadata": {
    "tags": [],
    "created_in_deepnote_cell": true,
    "deepnote_cell_type": "markdown"
   }
  }
 ],
 "nbformat": 4,
 "nbformat_minor": 2,
 "metadata": {
  "orig_nbformat": 2,
  "deepnote": {
   "is_reactive": false
  },
  "deepnote_notebook_id": "f29627bd-1eff-4290-925a-d19b38612a19",
  "deepnote_execution_queue": []
 }
}